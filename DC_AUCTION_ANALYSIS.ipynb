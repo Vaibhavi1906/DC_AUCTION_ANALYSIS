{
 "cells": [
  {
   "cell_type": "markdown",
   "metadata": {},
   "source": [
    "\n",
    "\n",
    "## Introduction\n",
    "Welcome to the project, where the fusion of sports, business, and data analytics converges into the world of cricket. \n",
    "## Table of Links\n",
    "### Table\n",
    "| Description | Link |\n",
    "| Chosen Dataset | https://www.kaggle.com/code/akshay21kumar/ipl-auction-2023/input?select=2023+Auction |\n",
    "\n",
    "## Table of Contents\n",
    "1. Executive Summary\n",
    "2. Project Dashboard\n",
    "3. Background to the Project\n",
    "4. Critical Elements and Essential Python Libraries for Dashboard Development\n",
    "5. Applied Design Theory and Decision-Making Processes in Dashboard Development\n",
    "6. Comparision of Available Tools\n",
    "7. Review of Chosen Datasets \n",
    "8. Visualisation of Data with Accompanying Code\n",
    "9. Reflective Evaluation\n",
    "10.Conclusion\n"
   ]
  },
  {
   "cell_type": "markdown",
   "metadata": {},
   "source": [
    "## 1. Executive Summary\n",
    "\n",
    "This project has been an immersive journey into the convergence of business and data within the cricket sector, specifically centered around the annual Indian Premier League (IPL). This league, where ten teams compete fiercely for the coveted trophy, is marked not only by yearly battles but also by auctions that happen once in three years. These auctions offer teams the unique opportunity to rebuild their squads, strategize afresh, and prepare for the upcoming seasons. It is during this crucial time that in-depth analysis becomes imperative.\n",
    "\n",
    "This comprehensive dashboard analysis is meticulously designed to guide the Delhi Capitals (DC) team in their player selection for the upcoming auctions, strategically aiming for their first championship win. Beyond scrutinizing past investments and results, this project aims to engage a wide audience, including cricket enthusiasts and fans.Crafted with precision, the executive summary is tailored for diverse audiences, ensuring accessibility and relevance. It's structured to align each dashboard chart with specific objectives, utilizing Python and essential libraries like Pandas, Plotly, HTML, and Dash. The dataset, sourced from Kaggle, is transparently linked to ensure credibility.\n",
    "\n",
    "The project revolves around crucial focal points: talent acquisition, investment analysis, and the optimization of team dynamics. Key metrics such as runs scored, auction prices, wickets taken, and player performance metrics like age are rigorously scrutinized. Every visualization within the dashboard, whether it's pie charts depicting team composition or bubble charts illustrating bowling strengths, offers valuable insights into identifying potential targets.\n",
    "\n",
    "Rigor is upheld throughout the project by subjecting analytics methodologies and tools to a comprehensive review, ensuring the validity and reliability of the conclusions drawn. The journey is encapsulated in a reflective blog, shedding light on challenges faced, lessons learned, and the evolutionary path of methodologies.\n",
    "\n",
    "The conclusive section serves as a comprehensive summary, emphasizing crucial findings and outcomes. Referenced sources validate the methodologies applied, elevating the robustness of the presented work. Essentially, this executive summary serves as a gateway to an insightful exploration of cricket analytics, providing profound insights into player performance and strategic team-building approaches aimed at clinching the championship.\n"
   ]
  },
  {
   "cell_type": "markdown",
   "metadata": {},
   "source": [
    "## 2. Project Dashboard\n",
    "This code presented herein constitutes the foundational framework for the creation of the dashboard, encompassing key data analysis, visualization, and interactive features essential for an insightful and user-engaging interface."
   ]
  },
  {
   "cell_type": "code",
   "execution_count": 1,
   "metadata": {},
   "outputs": [
    {
     "name": "stderr",
     "output_type": "stream",
     "text": [
      "C:\\Users\\VAIBHAVI T\\AppData\\Local\\Temp\\ipykernel_38548\\2070094080.py:4: UserWarning: \n",
      "The dash_html_components package is deprecated. Please replace\n",
      "`import dash_html_components as html` with `from dash import html`\n",
      "  import dash_html_components as html\n"
     ]
    },
    {
     "name": "stdout",
     "output_type": "stream",
     "text": [
      "Dashboard URL: http://127.0.0.1:8050/\n"
     ]
    },
    {
     "name": "stderr",
     "output_type": "stream",
     "text": [
      "c:\\Users\\VAIBHAVI T\\anaconda33\\Lib\\site-packages\\dash\\resources.py:61: UserWarning:\n",
      "\n",
      "You have set your config to `serve_locally=True` but A local version of ['https://stackpath.bootstrapcdn.com/bootstrap/4.3.1/css/bootstrap.min.css'] is not available.\n",
      "If you added this file with `app.scripts.append_script` or `app.css.append_css`, use `external_scripts` or `external_stylesheets` instead.\n",
      "See https://dash.plotly.com/external-resources\n",
      "\n"
     ]
    },
    {
     "data": {
      "text/html": [
       "\n",
       "        <iframe\n",
       "            width=\"100%\"\n",
       "            height=\"650\"\n",
       "            src=\"http://127.0.0.1:8050/\"\n",
       "            frameborder=\"0\"\n",
       "            allowfullscreen\n",
       "            \n",
       "        ></iframe>\n",
       "        "
      ],
      "text/plain": [
       "<IPython.lib.display.IFrame at 0x2db48a84050>"
      ]
     },
     "metadata": {},
     "output_type": "display_data"
    }
   ],
   "source": [
    "import pandas as pd\n",
    "import dash\n",
    "from dash import dcc\n",
    "import dash_html_components as html\n",
    "import plotly.express as px\n",
    "import plotly.graph_objects as go\n",
    "\n",
    "Auction_2023 = pd.read_excel(\"IPLDATASET1.xlsx\")\n",
    "df_PlayerAnalysis = pd.read_excel('IPLDATASET1.xlsx', sheet_name='Sheet2')\n",
    "\n",
    "# Renaming columns\n",
    "Auction_2023.rename(columns={'Set No.': 'Set_No.', '2023 Set': '2023_Set', 'First Name': 'First_Name',\n",
    "                             'Test caps': 'Test_cap', 'ODI caps': 'ODI_cap', 'T20 caps': 'T20_cap',\n",
    "                             'Previous IPLTeam(s)': 'Previous_IPL_Team(s)', 'IPL': 'Played_in_IPL',\n",
    "                             '2022 Team': '2022_Team', '2022 IPL': '2022_IPL_played'}, inplace=True)\n",
    "\n",
    "# Concatenating the First and Last names into a new Column\n",
    "Auction_2023[\"Player_Name\"] = Auction_2023[\"First_Name\"] + \" \" + Auction_2023[\"Surname\"]\n",
    "\n",
    "# Dropping unnecessary columns\n",
    "Auction_2023.drop(columns=[\"First_Name\", \"Surname\", \"Set_No.\", \"2023_Set\", \"Association\", \"T20_cap\", \"ODI_cap\",\n",
    "                           \"Test_cap\", \"DOB\"], axis=1, inplace=True)\n",
    "\n",
    "# Re-indexing columns\n",
    "Auction_2023 = Auction_2023.reindex(columns=[\"Player_Name\", \"Country\", \"Reserve_Price\", \"Auction_Price\", \"TEAM\",\n",
    "                                             \"Age\", \"Specialism\", \"Batting_Style\", \"Bowling_Style\",\n",
    "                                             \"Played_in_IPL\", \"Previous_IPL_Team(s)\", \"2022_Team\",\n",
    "                                             \"2022_IPL_played\", \"C/U/A\"])\n",
    "\n",
    "# Filter uncapped players\n",
    "uncapped_players = Auction_2023[(Auction_2023[\"C/U/A\"] == \"Uncapped\") & (Auction_2023[\"TEAM\"] != \"UnSold\")]\n",
    "\n",
    "# Bar graph for uncapped players count per team\n",
    "uncapped_players_count = uncapped_players['TEAM'].value_counts().reset_index()\n",
    "uncapped_players_count.columns = ['TEAM', 'Count']\n",
    "\n",
    "fig1 = px.bar(\n",
    "    uncapped_players_count, \n",
    "    x='TEAM', \n",
    "    y='Count',\n",
    "    labels={'Count': 'No. of players'}, \n",
    "    title=\"Count of uncapped players sold\",\n",
    "    template='plotly_dark', \n",
    "    color='Count',  # Adding color parameter for gradient effect\n",
    "    color_continuous_scale=['#caeaff', '#95c8ff', '#007acc', '#004e80']  # Custom discrete color scale in lighter shades of blue\n",
    ")\n",
    "\n",
    "fig1.update_traces(showlegend=False)  # Hide the color scale legend\n",
    "fig1.update_layout(\n",
    "    uniformtext_minsize=8,  # Adjust the minimum font size for text labels\n",
    "    bargap=0.5 , # Adjust the gap between bars (play with the value to suit your needs)\n",
    "    height=320,  # Set the height of the figure\n",
    "    \n",
    "    margin=dict(autoexpand=True),  # Center the plot within the allocated space\n",
    ")\n",
    "\n",
    "# Calculating mean age of players within each team\n",
    "mean_age_players = Auction_2023[Auction_2023['TEAM'] != 'UnSold'].groupby('TEAM')['Age'].mean().reset_index()\n",
    "\n",
    "\n",
    "# Strip plot for individual player ages within each team\n",
    "fig2 = px.scatter(Auction_2023[Auction_2023['TEAM'] != 'UnSold'], x='TEAM', y='Age',\n",
    "                  title='Player Ages within Each Team', labels={'Age': 'Player Age', 'TEAM': 'TEAM'},\n",
    "                  template='plotly_dark', hover_data={'TEAM': True, 'Age': True, 'Player_Name': True, 'Specialism': True})\n",
    "\n",
    "# Add mean age as red dots for each team\n",
    "fig2.add_trace(go.Scatter(x=mean_age_players['TEAM'], y=mean_age_players['Age'],\n",
    "                          mode='markers', marker=dict(color='red', symbol='circle', size=10),\n",
    "                          name='Mean Age',\n",
    "                          text=mean_age_players['Age'],  # Display player age on hover\n",
    "                          hoverinfo='text'))  # Show text on hover\n",
    "\n",
    "#filtered_df['Adjusted Bubble Size'] = df_PlayerAnalysis['Wickets Taken'] * 5\n",
    "\n",
    "fig = px.scatter(df_PlayerAnalysis, x='Auction_Price', y='Runs Scored', size='Wickets Taken',\n",
    "                 hover_name='First Name', hover_data=['Auction_Price', 'Wickets Taken'],\n",
    "                 labels={'Auction_Price': 'Auction Price', 'Runs Scored': 'Runs Scored'},\n",
    "                 title='Auction Price vs. Runs Scored (Bubble size represents Wickets Taken)',\n",
    "                 size_max=30)\n",
    "# Create the Dash app\n",
    "app = dash.Dash(__name__)\n",
    "\n",
    "# Function to filter data based on dropdown selection\n",
    "def filter_data(selected_value):\n",
    "    if selected_value == 'DC':\n",
    "        filtered_data = Auction_2023[Auction_2023['TEAM'] == 'DC']\n",
    "    elif selected_value == 'All Players':\n",
    "        filtered_data = Auction_2023\n",
    "    elif selected_value == 'Unsold Players':\n",
    "        filtered_data = Auction_2023[Auction_2023['TEAM'] == 'UnSold']\n",
    "    else:\n",
    "        filtered_data = Auction_2023\n",
    "    return filtered_data\n",
    "\n",
    "# Create pie chart for distribution of 'Specialism'\n",
    "def generate_pie_chart(selected_value):\n",
    "    filtered_data = filter_data(selected_value)\n",
    "    specialism_distribution = filtered_data['Specialism'].value_counts().reset_index()\n",
    "    specialism_distribution.columns = ['Specialism', 'Count']\n",
    "    pie_chart = px.pie(specialism_distribution, values='Count', names='Specialism', title='Distribution of Specialism')\n",
    "    pie_chart.update_layout(\n",
    "    height=320,  # Set the height of the pie chart\n",
    "    \n",
    "    margin=dict(autoexpand=True),  # Center the plot within the allocated space\n",
    "    \n",
    "    )\n",
    "    return pie_chart\n",
    "\n",
    "\n",
    "# Update the layout for fig2 (scatter plot)\n",
    "fig2.update_layout(\n",
    "    height=320,  # Set the height of the figure\n",
    "    margin=dict(autoexpand=True),  # Center the plot within the allocated space\n",
    ")\n",
    "\n",
    "# Update the layout with the specified design elements\n",
    "app.layout = html.Div(\n",
    "    style={'backgroundColor': '#1f2630', 'color': 'white', 'height': '200vh', 'padding': '0px'},\n",
    "    children=[\n",
    "        html.H1(\"Auction Analysis of DC Team\", style={'textAlign': 'center'}),\n",
    "        html.Div(\n",
    "            className='grid-container',\n",
    "            style={'display': 'grid', 'gridTemplateColumns': '1fr', 'gridTemplateRows': '1fr', 'gap': '20px', 'marginTop': '20px'},\n",
    "            children=[\n",
    "                html.Div(\n",
    "                    className='grid-item',\n",
    "                    children=[\n",
    "                        html.Div([\n",
    "                            html.H2(\"Team Stats\", style={'textAlign': 'center'}),\n",
    "                            html.Div([\n",
    "                html.Div(\"Slots Left = 5\", className='stats-box', style={'border': '1px solid white', 'font-weight': 'bold', 'font-size': '18px', 'width': '200px', 'height': '50px', 'display': 'flex',  'align-items': 'center'}),\n",
    "                html.Div(\"Purse left = 4.45 Cr\", className='stats-box', style={'border': '1px solid white', 'font-weight': 'bold', 'font-size': '18px', 'width': '200px', 'height': '50px', 'display': 'flex', 'justify-content': 'center', 'align-items': 'center'}),\n",
    "                html.Div(\"Purse used = 15 Cr\", className='stats-box', style={'border': '1px solid white', 'font-weight': 'bold', 'font-size': '18px', 'width': '200px', 'height': '50px', 'display': 'flex', 'justify-content': 'center', 'align-items': 'center'}),\n",
    "                html.Div(\"Total amount given = 19.45 Cr\", className='stats-box', style={'border': '1px solid white', 'font-weight': 'bold', 'font-size': '18px', 'width': '200px', 'height': '50px', 'display': 'flex',  'align-items': 'center'})\n",
    "            ], style={'display': 'flex','justifyContent': 'space-between', 'alignItems': 'center' })\n",
    "        ])\n",
    "                    ]),\n",
    "                html.Div(\n",
    "                    className='grid-item',\n",
    "                    children=[\n",
    "                        html.H2(\"Team Analysis(click options to view chart)\", style={'textAlign': 'center'}),\n",
    "                        html.Div([\n",
    "                            html.Span(html.A(\"1. Uncapped players\", href='#', id='uncapped', n_clicks=0, style={\n",
    "                                'cursor': 'pointer', 'color': 'white', 'textDecoration': 'none', 'display': 'flex','width': '200px', 'height': '50px',\n",
    "                                'border': '1px solid white', 'font-weight': 'bold','font-size': '18px', 'flex': '1','textAlign': 'center'\n",
    "                            })),\n",
    "                            html.Span(html.A(\"2. Mean age distribution\", href='#', id='age_distribution', n_clicks=0, style={\n",
    "                                'cursor': 'pointer', 'color': 'white', 'textDecoration': 'none', 'display': 'flex','width': '200px', 'height': '50px',\n",
    "                                'border': '1px solid white', 'font-weight': 'bold','font-size': '18px', 'flex': '1', 'textAlign': 'center'\n",
    "                            })),\n",
    "                            html.Span(html.A(\"3. Player analysis\", href='#', id='player_analysis', n_clicks=0, style={\n",
    "                                'cursor': 'pointer', 'color': 'white', 'textDecoration': 'none', 'display': 'flex','width': '200px', 'height': '50px',\n",
    "                                'border': '1px solid white', 'font-weight': 'bold','font-size': '18px', 'flex': '1', 'textAlign': 'center'\n",
    "                            })),\n",
    "                            html.Span(html.A(\"4. Specialism\", href='#', id='specialism', n_clicks=0, style={\n",
    "                                'cursor': 'pointer', 'color': 'white', 'textDecoration': 'none', 'display': 'flex','width': '200px', 'height': '50px',\n",
    "                                'border': '1px solid white', 'font-weight': 'bold','font-size': '18px','flex': '1', 'textAlign': 'center'\n",
    "                            }))\n",
    "                        ], style={'display': 'flex', 'justifyContent': 'space-between', 'alignItems': 'center', 'flexWrap': 'wrap', 'color': 'white'})\n",
    "                    ]\n",
    "                )\n",
    "            ]\n",
    "        ),\n",
    "\n",
    "        html.Div(id='graph-div', style={'grid-column': '1 / span 2', 'marginTop': '20px'})\n",
    "    ]\n",
    ")\n",
    "\n",
    "# Callback to display graphs in the empty space below on message click\n",
    "@app.callback(\n",
    "    dash.dependencies.Output('graph-div', 'children'),\n",
    "    [dash.dependencies.Input('uncapped', 'n_clicks'),\n",
    "     dash.dependencies.Input('age_distribution', 'n_clicks'),\n",
    "     dash.dependencies.Input('player_analysis', 'n_clicks'),\n",
    "     dash.dependencies.Input('specialism', 'n_clicks')]\n",
    ")\n",
    "def display_graph(uncapped_clicks, age_dist_clicks, player_analysis_clicks, specialism_clicks):\n",
    "    ctx = dash.callback_context\n",
    "    if not ctx.triggered:\n",
    "        # If no button is clicked, display the image\n",
    "        return html.Div([\n",
    "            html.Img(src=\"assets\\dc_image.png\", style={'opacity': '0.3', 'width': '100%', 'height': '320px'}),\n",
    "        ])\n",
    "    else:\n",
    "        button_id = ctx.triggered[0]['prop_id'].split('.')[0]\n",
    "        if button_id == 'uncapped':\n",
    "            # Code to generate graph for uncapped players\n",
    "            return dcc.Graph(id='uncapped-graph', figure=fig1)\n",
    "        elif button_id == 'age_distribution':\n",
    "            # Code to generate age distribution graph\n",
    "            return dcc.Graph(id='age-dist-graph', figure=fig2)\n",
    "        elif button_id == 'player_analysis':\n",
    "            # Code to generate player analysis graph\n",
    "            return dcc.Graph(id='player-analysis-graph', figure=fig)\n",
    "        elif button_id == 'specialism':\n",
    "            # Code to generate specialism graph\n",
    "            # Code to generate specialism graph\n",
    "            dropdown_pie_chart = html.Div(className='grid-item', children=[\n",
    "                                          dcc.Dropdown(\n",
    "                                                      id='team-dropdown',\n",
    "                                                      options=[\n",
    "                                                                {'label': 'DC', 'value': 'DC'},\n",
    "                                                                {'label': 'All Players', 'value': 'All Players'},\n",
    "                                                                {'label': 'Unsold Players', 'value': 'Unsold Players'}\n",
    "                                                              ],\n",
    "                                                      value='DC', \n",
    "                                                      style={'color': 'black'}# Default value\n",
    "                                                      ),\n",
    "            dcc.Graph(id='pie-chart', figure=generate_pie_chart('DC'))\n",
    "            ])\n",
    "            return dropdown_pie_chart\n",
    "        else:\n",
    "            return \"\"\n",
    "\n",
    "# Callback to update the pie chart based on dropdown selection\n",
    "@app.callback(\n",
    "    dash.dependencies.Output('pie-chart', 'figure'),\n",
    "    [dash.dependencies.Input('team-dropdown', 'value')]\n",
    ")\n",
    "def update_pie_chart(selected_value):\n",
    "    return generate_pie_chart(selected_value)\n",
    "# External CSS styles for grid layout\n",
    "external_stylesheets = [\n",
    "    'https://stackpath.bootstrapcdn.com/bootstrap/4.3.1/css/bootstrap.min.css'\n",
    "]\n",
    "\n",
    "\n",
    "# Set external stylesheets in the Dash app\n",
    "app.css.append_css({\n",
    "    'external_url': external_stylesheets\n",
    "})\n",
    "\n",
    "\n",
    "\n",
    "# Run the app and print the URL to the console\n",
    "url = \"http://127.0.0.1:8050/\"\n",
    "print(f\"Dashboard URL: {url}\")\n",
    "app.run_server(debug=False, port=8050, mode='external')\n",
    "\n",
    "\n",
    "\n",
    "\n"
   ]
  },
  {
   "cell_type": "markdown",
   "metadata": {},
   "source": [
    "## 3. Background to the Project\n",
    "\n",
    "The cricket sector, particularly in tournaments like the IPL, is becoming increasingly intertwined with business and data analytics.Within this landscape, the IPL, an annual summer tournament featuring 10 competitive teams, holds immense significance. Despite the sport's fervor, three teams—RCB, PBKS, and DC—have faced a drought in clinching the IPL cup since its inception. Central to bolstering DC's prospects, my focus centers on optimizing auction strategies, utilizing the triennial IPL auctions to infuse talent and secure a competitive edge in their pursuit of the coveted cup.\n",
    " \n",
    "Main Objectives:\n",
    "1.Acquiring Uncapped Players: The primary goal is to identify and acquire uncapped players during the upcoming auction for DC.These players represent untapped potential and can significantly contribute to the team's success.\n",
    "\n",
    "2.Targeting Young Talent: Emphasizing a strategic approach, the focus is on targeting younger players. Investing in youthful talent ensures long-term stability for the team, relying on their fitness and potential for extended periods.\n",
    "\n",
    "3.Strategic Player Selection: Thorough analysis of the team's composition is imperative. Careful consideration is needed to balance the team by gauging the need for wicketkeepers, bowlers, batsmen, and all-rounders based on the existing percentage of each player type within the team.\n",
    "\n",
    "4.Evaluation of Previous Investments: Assessing the team's usual playing eleven is crucial.Delving into the expenditures made on these players and evaluating their performance in the previous season will ascertain the effectiveness of the team's investments. This analysis aims to determine if the team's investments aligned with the players' actual on-field contributions.\n",
    "\n",
    "This project aims to utilize data analytics to make informed decisions, strategically selecting players during auctions, \n",
    "and fostering a team composition that not only elevates DC's performance in the short term but also secures a stable foundation for long-term success."
   ]
  },
  {
   "cell_type": "markdown",
   "metadata": {},
   "source": [
    "## 4. Critical Elements and Essential Python Libraries for Dashboard Development\n",
    "Upon assessing the current status of the DC team, the identification of five vacant slots within a 4.5 CR purse designated for player, highlights a pivotal phase for strategic player selection. Recognizing the significance of this juncture, my focus has revolved around  considerations: distinguishing between capped and uncapped players, evaluating player age for sustained team dynamics, and scrutinizing past  performances linked to prior team investments.\n",
    "\n",
    "Embarking on the data analysis journey, the utilization of Pandas libraries facilitated essential data cleansing tasks extracted from the xlsx. Involved eliminating redundant columns, refining existing column structures, and ensuring data integrity by addressing NaN values. Subsequent efforts led me to opt for Plotly as the primary visualization tool, given its proficiency in crafting charts example dynamic and engaging bar. infusion of HTML styling elements added a layer of visual appeal and streamlined user interaction. Dash streamlines dashboard deployment, allowing seamless integration of Plotly charts. By embedding these visualizations within the Dash app, users gain access to enhanced functionalities like dropdown menus and interactive data hovering, providing comprehensive insights at their fingertips."
   ]
  },
  {
   "cell_type": "markdown",
   "metadata": {},
   "source": [
    "## 5. Applied Design Theory and Decision-Making Processes in Dashboard Development\n",
    "Dashboard Design Process: Integration with Cole's Design Principles\n",
    "\n",
    "1. Empathy - Understanding Team Needs:\n",
    "Commencing with a thorough analysis of the Indian Premier League (IPL) team's historical performance, the design process prioritizes  the team's challenges and aspirations. This understanding serves as a foundation to address existing gaps and strategize effectively through the dashboard's design.\n",
    "\n",
    "2. Define - Clarity in Statistical Representation:\n",
    "Aligning with the 'define' stage, emphasis is placed on articulating statistical data concisely. Specific elements like runs scored, wickets taken, auction prices, and the age distribution within the team were meticulously analyzed. We aimed to understand what types of players were on the team and how their skills could be used to meet our goals.\n",
    "\n",
    "3. Ideate - Visualization Selection for Key Objectives:\n",
    "The 'ideate' phase involves the meticulous selection of visualizations that best serve the project's objectives. Utilizing bar graphs for  analysis, employing bubble charts for wicket magnitude, and leveraging pie charts for percentage distribution exemplify this phase. \n",
    "\n",
    "4. Prototype - Development and Placement of Visualizations:\n",
    "During the 'prototype' phase, visualizations were created and embedded within the dashboard framework. Initially, all four charts were displayed on a single page. However, during the subsequent stage of development, a revised approach was adopted. The new concept introduced a sequential display, showcasing one graph at a time. This modification aimed to enable focused analysis while enhancing cognitive fit. By presenting data in a sequential manner, users can concentrate on one visualization at a time, promoting deeper analysis and improving overall usability \n",
    "\n",
    "5. Test and Feedback - Iterative Refinement:\n",
    "The 'test and feedback' phase involves rigorous testing and soliciting feedback. Iterative cycles aid in identifying flaws and refining elements, particularly focusing on aesthetics and usability.\n",
    "\n",
    "In summary, aligning this dashboard design process with Cole's principles ensures a methodical and user-centric approach. \n",
    "\n",
    "Gestalt Principles and Cognitive Fit in Dashboard Design:\n",
    "The design of our dashboard is intricately entwined with Gestalt principles, which elucidate how our perceptual systems organically organize visual elements into meaningful patterns and groups. By leveraging these principles, our dashboard aspires to efficiently convey information to users without imposing cognitive strain. For instance, in our scatter and strip plots representing the mean age distribution of players, the deliberate use of color variations aligns with Gestalt principles. This color differentiation swiftly communicates the mean age of players while allowing users to discern individual player ages effortlessly.\n",
    "\n",
    "Moreover, Kopp et al. (2018) assert the significance of cognitive fit in visualizations, emphasizing the harmonization between the visualization format and the cognitive task it demands. Aligning with this notion, our chosen visualizations prioritize cognitive fit by presenting data in formats that align conceptually with the cognitive processes users employ to derive insights. This deliberate selection of visualization types ensures that users can effectively engage with the data, facilitating efficient information extraction.\n",
    "\n",
    "I've detailed this journey in a blog post of week 2 and week 3.\n",
    "The links to the blog are:\n",
    "https://ele.exeter.ac.uk/mod/oublog/viewpost.php?post=34618\n",
    "https://ele.exeter.ac.uk/mod/oublog/viewpost.php?post=34621\n",
    "These two weeks were pivotal, marked by a seamless blend of decision-making, active development, and iterative improvements."
   ]
  },
  {
   "cell_type": "markdown",
   "metadata": {},
   "source": [
    "## 6. Review of Available Tools\n",
    "In the domain of dashboard creation tools like Python, Tableau, Power BI, Google Data Studio, and QlikView/Qlik Sense are widely acknowledged. \n",
    "Introducing Domo as an alternative to discuss provides a unique perspective, resembling Power BI in certain aspects.\n",
    "\n",
    "As a cloud-based platform, Domo enables universal data access and collaboration, facilitating real-time updates without relying on on-premises. Domo boasts a low-code or no-code design, ensuring accessibility for users without extensive coding expertise. Its intuitive interface and -and-drop functionalities streamline dashboard creation, further enhanced by prebuilt apps and industry-specific solutions with ready-to-use. Notably, Domo efficiently manages substantial data volumes.\n",
    "\n",
    "Adding to its advantages, Domo's scalability stands out, catering to the needs of growing enterprises and accommodating expanding data. This scalability is crucial for evolving business demands and data analytics requirements.\n",
    "\n",
    "Despite these strengths, some users have highlighted limitations in Domo's support and documentation, which might not comprehensively cover  various scenarios, differing from the extensive support and resources available within Python's vast community. However, its cost may pose hurdles for students or smaller businesses, potentially limiting skill development within its platform, unlike the broader skill set gained through programming languages"
   ]
  },
  {
   "cell_type": "markdown",
   "metadata": {},
   "source": [
    "## 7. Review of Chosen Datasets \n",
    "Data Sources:\n",
    "The dataset used for this dashboard project was obtained from Kaggle, a prominent platform hosting various datasets. Kaggle serves as a repository for diverse datasets contributed by the community.\n",
    "\n",
    "Dataset Details:\n",
    "The chosen dataset pertains to the IPL (Indian Premier League) auction data for the year 2023. This dataset comprises 22 columns encompassing crucial information such as player details (First Name, Surname, Country, Association, DOB), cricket statistics (Runs Scored, Wickets Taken), playing styles (Batting Style, Bowling Style), international caps (Test, ODI, T20), IPL history (Previous IPL Teams, Auction Prices), and auction-specific details (Set Number, Reserve Price, Auction Price, Team).The dataset is stored in an Excel sheet format and contains a total of 444 rows or records. \n",
    "\n",
    "Data Preprocessing:\n",
    "During the cleaning process, an examination for missing or handled data was conducted. It's notable that the dataset exhibited no missing or NaN (Not a Number) values, indicating a relatively clean and complete dataset.\n",
    "\n",
    "Time-frame and Update Frequency:\n",
    "The IPL auction data is updated every three years, aligning with the occurrence of the IPL auctions. Therefore, the dataset's frequency of update coincides with the triennial IPL auctions.\n",
    "\n",
    "Relevance to Dashboard Objectives:\n",
    "The selection of this dataset aligns with the primary objective of identifying prospective players for team recruitment during the upcoming auctions. Attributes like Auction Price, Runs Scored, Wickets Taken, and Player Specialism serve as critical factors aiding in the evaluation and selection of potential players for the team.The dataset's comprehensive player statistics and auction-related details facilitate the identification of suitable candidates to bolster the team roster during the subsequent auction events."
   ]
  },
  {
   "cell_type": "markdown",
   "metadata": {},
   "source": [
    "## 8. Visualisation of Data with Accompanying Code\n",
    "In this dedicated section , the report will delve into the analysis of three key visual representations derived from the dashboard.\n",
    "\n",
    "1. Bar Graph of Uncapped Players:\n",
    "This visual representation delineates the allocation of uncapped players among the ten auction-involved teams. Uncapped players, representing individuals yet to be chosen by any national-level team, enter the auction with a base price of 20 lakhs. Notably, these uncapped players, often younger talents accustomed to playing in varied subcontinental conditions, carry significant potential and skill. Investing in these players at a lower cost becomes a strategic tactic, providing them with a platform to excel, potentially earning national team selections and fostering personal career growth. Simultaneously, this investment serves as a boon for the team, leveraging the competitive spirit and cricketing prowess of these players.\n",
    "The graphical representation highlights DC having only one uncapped player. Considering the limited remaining budget, targeting an uncapped player in the upcoming auction could be a strategic move for DC. The symbiotic nature of this investment ensures mutual growth and success for both the players and the team."
   ]
  },
  {
   "cell_type": "code",
   "execution_count": 2,
   "metadata": {},
   "outputs": [
    {
     "name": "stderr",
     "output_type": "stream",
     "text": [
      "c:\\Users\\VAIBHAVI T\\anaconda33\\Lib\\site-packages\\dash\\resources.py:61: UserWarning:\n",
      "\n",
      "You have set your config to `serve_locally=True` but A local version of ['https://stackpath.bootstrapcdn.com/bootstrap/4.3.1/css/bootstrap.min.css'] is not available.\n",
      "If you added this file with `app.scripts.append_script` or `app.css.append_css`, use `external_scripts` or `external_stylesheets` instead.\n",
      "See https://dash.plotly.com/external-resources\n",
      "\n"
     ]
    },
    {
     "data": {
      "application/vnd.plotly.v1+json": {
       "config": {
        "plotlyServerURL": "https://plot.ly"
       },
       "data": [
        {
         "alignmentgroup": "True",
         "hovertemplate": "TEAM=%{x}<br>No. of players=%{marker.color}<extra></extra>",
         "legendgroup": "",
         "marker": {
          "color": [
           7,
           6,
           6,
           5,
           5,
           4,
           4,
           3,
           3,
           2
          ],
          "coloraxis": "coloraxis",
          "pattern": {
           "shape": ""
          }
         },
         "name": "",
         "offsetgroup": "",
         "orientation": "v",
         "showlegend": false,
         "textposition": "auto",
         "type": "bar",
         "x": [
          "RR",
          "SRH",
          "PBKS",
          "RCB",
          "MI",
          "CSK",
          "LSG",
          "KKR",
          "GT",
          "DC"
         ],
         "xaxis": "x",
         "y": [
          7,
          6,
          6,
          5,
          5,
          4,
          4,
          3,
          3,
          2
         ],
         "yaxis": "y"
        }
       ],
       "layout": {
        "bargap": 0.5,
        "barmode": "relative",
        "coloraxis": {
         "colorbar": {
          "title": {
           "text": "No. of players"
          }
         },
         "colorscale": [
          [
           0,
           "#caeaff"
          ],
          [
           0.3333333333333333,
           "#95c8ff"
          ],
          [
           0.6666666666666666,
           "#007acc"
          ],
          [
           1,
           "#004e80"
          ]
         ]
        },
        "height": 320,
        "legend": {
         "tracegroupgap": 0
        },
        "margin": {
         "autoexpand": true
        },
        "template": {
         "data": {
          "bar": [
           {
            "error_x": {
             "color": "#f2f5fa"
            },
            "error_y": {
             "color": "#f2f5fa"
            },
            "marker": {
             "line": {
              "color": "rgb(17,17,17)",
              "width": 0.5
             },
             "pattern": {
              "fillmode": "overlay",
              "size": 10,
              "solidity": 0.2
             }
            },
            "type": "bar"
           }
          ],
          "barpolar": [
           {
            "marker": {
             "line": {
              "color": "rgb(17,17,17)",
              "width": 0.5
             },
             "pattern": {
              "fillmode": "overlay",
              "size": 10,
              "solidity": 0.2
             }
            },
            "type": "barpolar"
           }
          ],
          "carpet": [
           {
            "aaxis": {
             "endlinecolor": "#A2B1C6",
             "gridcolor": "#506784",
             "linecolor": "#506784",
             "minorgridcolor": "#506784",
             "startlinecolor": "#A2B1C6"
            },
            "baxis": {
             "endlinecolor": "#A2B1C6",
             "gridcolor": "#506784",
             "linecolor": "#506784",
             "minorgridcolor": "#506784",
             "startlinecolor": "#A2B1C6"
            },
            "type": "carpet"
           }
          ],
          "choropleth": [
           {
            "colorbar": {
             "outlinewidth": 0,
             "ticks": ""
            },
            "type": "choropleth"
           }
          ],
          "contour": [
           {
            "colorbar": {
             "outlinewidth": 0,
             "ticks": ""
            },
            "colorscale": [
             [
              0,
              "#0d0887"
             ],
             [
              0.1111111111111111,
              "#46039f"
             ],
             [
              0.2222222222222222,
              "#7201a8"
             ],
             [
              0.3333333333333333,
              "#9c179e"
             ],
             [
              0.4444444444444444,
              "#bd3786"
             ],
             [
              0.5555555555555556,
              "#d8576b"
             ],
             [
              0.6666666666666666,
              "#ed7953"
             ],
             [
              0.7777777777777778,
              "#fb9f3a"
             ],
             [
              0.8888888888888888,
              "#fdca26"
             ],
             [
              1,
              "#f0f921"
             ]
            ],
            "type": "contour"
           }
          ],
          "contourcarpet": [
           {
            "colorbar": {
             "outlinewidth": 0,
             "ticks": ""
            },
            "type": "contourcarpet"
           }
          ],
          "heatmap": [
           {
            "colorbar": {
             "outlinewidth": 0,
             "ticks": ""
            },
            "colorscale": [
             [
              0,
              "#0d0887"
             ],
             [
              0.1111111111111111,
              "#46039f"
             ],
             [
              0.2222222222222222,
              "#7201a8"
             ],
             [
              0.3333333333333333,
              "#9c179e"
             ],
             [
              0.4444444444444444,
              "#bd3786"
             ],
             [
              0.5555555555555556,
              "#d8576b"
             ],
             [
              0.6666666666666666,
              "#ed7953"
             ],
             [
              0.7777777777777778,
              "#fb9f3a"
             ],
             [
              0.8888888888888888,
              "#fdca26"
             ],
             [
              1,
              "#f0f921"
             ]
            ],
            "type": "heatmap"
           }
          ],
          "heatmapgl": [
           {
            "colorbar": {
             "outlinewidth": 0,
             "ticks": ""
            },
            "colorscale": [
             [
              0,
              "#0d0887"
             ],
             [
              0.1111111111111111,
              "#46039f"
             ],
             [
              0.2222222222222222,
              "#7201a8"
             ],
             [
              0.3333333333333333,
              "#9c179e"
             ],
             [
              0.4444444444444444,
              "#bd3786"
             ],
             [
              0.5555555555555556,
              "#d8576b"
             ],
             [
              0.6666666666666666,
              "#ed7953"
             ],
             [
              0.7777777777777778,
              "#fb9f3a"
             ],
             [
              0.8888888888888888,
              "#fdca26"
             ],
             [
              1,
              "#f0f921"
             ]
            ],
            "type": "heatmapgl"
           }
          ],
          "histogram": [
           {
            "marker": {
             "pattern": {
              "fillmode": "overlay",
              "size": 10,
              "solidity": 0.2
             }
            },
            "type": "histogram"
           }
          ],
          "histogram2d": [
           {
            "colorbar": {
             "outlinewidth": 0,
             "ticks": ""
            },
            "colorscale": [
             [
              0,
              "#0d0887"
             ],
             [
              0.1111111111111111,
              "#46039f"
             ],
             [
              0.2222222222222222,
              "#7201a8"
             ],
             [
              0.3333333333333333,
              "#9c179e"
             ],
             [
              0.4444444444444444,
              "#bd3786"
             ],
             [
              0.5555555555555556,
              "#d8576b"
             ],
             [
              0.6666666666666666,
              "#ed7953"
             ],
             [
              0.7777777777777778,
              "#fb9f3a"
             ],
             [
              0.8888888888888888,
              "#fdca26"
             ],
             [
              1,
              "#f0f921"
             ]
            ],
            "type": "histogram2d"
           }
          ],
          "histogram2dcontour": [
           {
            "colorbar": {
             "outlinewidth": 0,
             "ticks": ""
            },
            "colorscale": [
             [
              0,
              "#0d0887"
             ],
             [
              0.1111111111111111,
              "#46039f"
             ],
             [
              0.2222222222222222,
              "#7201a8"
             ],
             [
              0.3333333333333333,
              "#9c179e"
             ],
             [
              0.4444444444444444,
              "#bd3786"
             ],
             [
              0.5555555555555556,
              "#d8576b"
             ],
             [
              0.6666666666666666,
              "#ed7953"
             ],
             [
              0.7777777777777778,
              "#fb9f3a"
             ],
             [
              0.8888888888888888,
              "#fdca26"
             ],
             [
              1,
              "#f0f921"
             ]
            ],
            "type": "histogram2dcontour"
           }
          ],
          "mesh3d": [
           {
            "colorbar": {
             "outlinewidth": 0,
             "ticks": ""
            },
            "type": "mesh3d"
           }
          ],
          "parcoords": [
           {
            "line": {
             "colorbar": {
              "outlinewidth": 0,
              "ticks": ""
             }
            },
            "type": "parcoords"
           }
          ],
          "pie": [
           {
            "automargin": true,
            "type": "pie"
           }
          ],
          "scatter": [
           {
            "marker": {
             "line": {
              "color": "#283442"
             }
            },
            "type": "scatter"
           }
          ],
          "scatter3d": [
           {
            "line": {
             "colorbar": {
              "outlinewidth": 0,
              "ticks": ""
             }
            },
            "marker": {
             "colorbar": {
              "outlinewidth": 0,
              "ticks": ""
             }
            },
            "type": "scatter3d"
           }
          ],
          "scattercarpet": [
           {
            "marker": {
             "colorbar": {
              "outlinewidth": 0,
              "ticks": ""
             }
            },
            "type": "scattercarpet"
           }
          ],
          "scattergeo": [
           {
            "marker": {
             "colorbar": {
              "outlinewidth": 0,
              "ticks": ""
             }
            },
            "type": "scattergeo"
           }
          ],
          "scattergl": [
           {
            "marker": {
             "line": {
              "color": "#283442"
             }
            },
            "type": "scattergl"
           }
          ],
          "scattermapbox": [
           {
            "marker": {
             "colorbar": {
              "outlinewidth": 0,
              "ticks": ""
             }
            },
            "type": "scattermapbox"
           }
          ],
          "scatterpolar": [
           {
            "marker": {
             "colorbar": {
              "outlinewidth": 0,
              "ticks": ""
             }
            },
            "type": "scatterpolar"
           }
          ],
          "scatterpolargl": [
           {
            "marker": {
             "colorbar": {
              "outlinewidth": 0,
              "ticks": ""
             }
            },
            "type": "scatterpolargl"
           }
          ],
          "scatterternary": [
           {
            "marker": {
             "colorbar": {
              "outlinewidth": 0,
              "ticks": ""
             }
            },
            "type": "scatterternary"
           }
          ],
          "surface": [
           {
            "colorbar": {
             "outlinewidth": 0,
             "ticks": ""
            },
            "colorscale": [
             [
              0,
              "#0d0887"
             ],
             [
              0.1111111111111111,
              "#46039f"
             ],
             [
              0.2222222222222222,
              "#7201a8"
             ],
             [
              0.3333333333333333,
              "#9c179e"
             ],
             [
              0.4444444444444444,
              "#bd3786"
             ],
             [
              0.5555555555555556,
              "#d8576b"
             ],
             [
              0.6666666666666666,
              "#ed7953"
             ],
             [
              0.7777777777777778,
              "#fb9f3a"
             ],
             [
              0.8888888888888888,
              "#fdca26"
             ],
             [
              1,
              "#f0f921"
             ]
            ],
            "type": "surface"
           }
          ],
          "table": [
           {
            "cells": {
             "fill": {
              "color": "#506784"
             },
             "line": {
              "color": "rgb(17,17,17)"
             }
            },
            "header": {
             "fill": {
              "color": "#2a3f5f"
             },
             "line": {
              "color": "rgb(17,17,17)"
             }
            },
            "type": "table"
           }
          ]
         },
         "layout": {
          "annotationdefaults": {
           "arrowcolor": "#f2f5fa",
           "arrowhead": 0,
           "arrowwidth": 1
          },
          "autotypenumbers": "strict",
          "coloraxis": {
           "colorbar": {
            "outlinewidth": 0,
            "ticks": ""
           }
          },
          "colorscale": {
           "diverging": [
            [
             0,
             "#8e0152"
            ],
            [
             0.1,
             "#c51b7d"
            ],
            [
             0.2,
             "#de77ae"
            ],
            [
             0.3,
             "#f1b6da"
            ],
            [
             0.4,
             "#fde0ef"
            ],
            [
             0.5,
             "#f7f7f7"
            ],
            [
             0.6,
             "#e6f5d0"
            ],
            [
             0.7,
             "#b8e186"
            ],
            [
             0.8,
             "#7fbc41"
            ],
            [
             0.9,
             "#4d9221"
            ],
            [
             1,
             "#276419"
            ]
           ],
           "sequential": [
            [
             0,
             "#0d0887"
            ],
            [
             0.1111111111111111,
             "#46039f"
            ],
            [
             0.2222222222222222,
             "#7201a8"
            ],
            [
             0.3333333333333333,
             "#9c179e"
            ],
            [
             0.4444444444444444,
             "#bd3786"
            ],
            [
             0.5555555555555556,
             "#d8576b"
            ],
            [
             0.6666666666666666,
             "#ed7953"
            ],
            [
             0.7777777777777778,
             "#fb9f3a"
            ],
            [
             0.8888888888888888,
             "#fdca26"
            ],
            [
             1,
             "#f0f921"
            ]
           ],
           "sequentialminus": [
            [
             0,
             "#0d0887"
            ],
            [
             0.1111111111111111,
             "#46039f"
            ],
            [
             0.2222222222222222,
             "#7201a8"
            ],
            [
             0.3333333333333333,
             "#9c179e"
            ],
            [
             0.4444444444444444,
             "#bd3786"
            ],
            [
             0.5555555555555556,
             "#d8576b"
            ],
            [
             0.6666666666666666,
             "#ed7953"
            ],
            [
             0.7777777777777778,
             "#fb9f3a"
            ],
            [
             0.8888888888888888,
             "#fdca26"
            ],
            [
             1,
             "#f0f921"
            ]
           ]
          },
          "colorway": [
           "#636efa",
           "#EF553B",
           "#00cc96",
           "#ab63fa",
           "#FFA15A",
           "#19d3f3",
           "#FF6692",
           "#B6E880",
           "#FF97FF",
           "#FECB52"
          ],
          "font": {
           "color": "#f2f5fa"
          },
          "geo": {
           "bgcolor": "rgb(17,17,17)",
           "lakecolor": "rgb(17,17,17)",
           "landcolor": "rgb(17,17,17)",
           "showlakes": true,
           "showland": true,
           "subunitcolor": "#506784"
          },
          "hoverlabel": {
           "align": "left"
          },
          "hovermode": "closest",
          "mapbox": {
           "style": "dark"
          },
          "paper_bgcolor": "rgb(17,17,17)",
          "plot_bgcolor": "rgb(17,17,17)",
          "polar": {
           "angularaxis": {
            "gridcolor": "#506784",
            "linecolor": "#506784",
            "ticks": ""
           },
           "bgcolor": "rgb(17,17,17)",
           "radialaxis": {
            "gridcolor": "#506784",
            "linecolor": "#506784",
            "ticks": ""
           }
          },
          "scene": {
           "xaxis": {
            "backgroundcolor": "rgb(17,17,17)",
            "gridcolor": "#506784",
            "gridwidth": 2,
            "linecolor": "#506784",
            "showbackground": true,
            "ticks": "",
            "zerolinecolor": "#C8D4E3"
           },
           "yaxis": {
            "backgroundcolor": "rgb(17,17,17)",
            "gridcolor": "#506784",
            "gridwidth": 2,
            "linecolor": "#506784",
            "showbackground": true,
            "ticks": "",
            "zerolinecolor": "#C8D4E3"
           },
           "zaxis": {
            "backgroundcolor": "rgb(17,17,17)",
            "gridcolor": "#506784",
            "gridwidth": 2,
            "linecolor": "#506784",
            "showbackground": true,
            "ticks": "",
            "zerolinecolor": "#C8D4E3"
           }
          },
          "shapedefaults": {
           "line": {
            "color": "#f2f5fa"
           }
          },
          "sliderdefaults": {
           "bgcolor": "#C8D4E3",
           "bordercolor": "rgb(17,17,17)",
           "borderwidth": 1,
           "tickwidth": 0
          },
          "ternary": {
           "aaxis": {
            "gridcolor": "#506784",
            "linecolor": "#506784",
            "ticks": ""
           },
           "baxis": {
            "gridcolor": "#506784",
            "linecolor": "#506784",
            "ticks": ""
           },
           "bgcolor": "rgb(17,17,17)",
           "caxis": {
            "gridcolor": "#506784",
            "linecolor": "#506784",
            "ticks": ""
           }
          },
          "title": {
           "x": 0.05
          },
          "updatemenudefaults": {
           "bgcolor": "#506784",
           "borderwidth": 0
          },
          "xaxis": {
           "automargin": true,
           "gridcolor": "#283442",
           "linecolor": "#506784",
           "ticks": "",
           "title": {
            "standoff": 15
           },
           "zerolinecolor": "#283442",
           "zerolinewidth": 2
          },
          "yaxis": {
           "automargin": true,
           "gridcolor": "#283442",
           "linecolor": "#506784",
           "ticks": "",
           "title": {
            "standoff": 15
           },
           "zerolinecolor": "#283442",
           "zerolinewidth": 2
          }
         }
        },
        "title": {
         "text": "Count of uncapped players sold"
        },
        "uniformtext": {
         "minsize": 8
        },
        "xaxis": {
         "anchor": "y",
         "domain": [
          0,
          1
         ],
         "title": {
          "text": "TEAM"
         }
        },
        "yaxis": {
         "anchor": "x",
         "domain": [
          0,
          1
         ],
         "title": {
          "text": "No. of players"
         }
        }
       }
      }
     },
     "metadata": {},
     "output_type": "display_data"
    }
   ],
   "source": [
    "#Accompanying code for Bar Graph of Uncapped Players\n",
    "uncapped_players_count = uncapped_players['TEAM'].value_counts().reset_index()\n",
    "uncapped_players_count.columns = ['TEAM', 'Count']\n",
    "\n",
    "fig1 = px.bar(\n",
    "    uncapped_players_count,\n",
    "    x='TEAM', \n",
    "    y='Count',\n",
    "    labels={'Count': 'No. of players'}, \n",
    "    title=\"Count of uncapped players sold\",\n",
    "    template='plotly_dark', \n",
    "    color='Count',  # Adding color parameter for gradient effect\n",
    "    color_continuous_scale=['#caeaff', '#95c8ff', '#007acc', '#004e80']  # Custom discrete color scale in lighter shades of blue\n",
    ")\n",
    "fig1.update_traces(showlegend=False)  # Hide the color scale legend\n",
    "fig1.update_layout(\n",
    "    uniformtext_minsize=8,  # Adjust the minimum font size for text labels\n",
    "    bargap=0.5 , # Adjust the gap between bars (play with the value to suit your needs)\n",
    "    height=320,  # Set the height of the figure\n",
    "    margin=dict(autoexpand=True),  # Center the plot within the allocated space\n",
    ")\n",
    "fig1"
   ]
  },
  {
   "cell_type": "markdown",
   "metadata": {},
   "source": [
    "2.Scatter and strip Plot of Mean Age Distribution:\n",
    "The Scatter and Strip Plot of Mean Age Distribution stands as the second pivotal visualization in my dashboard. This plot encompasses two distinct sets of points: blue points representing the ages of individual players within the team and red dots indicating the mean age of the team. Typically, cricket players retire around the age of 33, prompting teams to conscientiously manage and anticipate the retirement phase from the onset. Within this context, it becomes crucial for teams to ensure a blend of experienced players and younger talents for long-term stability. Notably, DC exhibits a roster with four players nearing retirement age, signaling a pressing need for younger and backup players to fortify the team's longevity. With their mean age surpassing 31, the team's composition emphasizes the necessity for rejuvenation and the infusion of youthful vigor into the squad.\n",
    "\n",
    "Team success in cricket hinges significantly not only on skill but also on stability and fitness, aspects inherently linked to players' ages. \n",
    "The need for a balanced roster encompassing experienced leaders and promising younger players becomes imperative for sustained success. \n",
    "In light of this analysis, it becomes evident that DC's strategy for the upcoming auction should prioritize targeting young and dynamic players. \n",
    "Securing a pool of youthful talents will not only infuse vitality into the team but also ensure a robust and enduring framework for future achievements"
   ]
  },
  {
   "cell_type": "code",
   "execution_count": 3,
   "metadata": {},
   "outputs": [
    {
     "data": {
      "application/vnd.plotly.v1+json": {
       "config": {
        "plotlyServerURL": "https://plot.ly"
       },
       "data": [
        {
         "customdata": [
          [
           "Mayank Agarwal",
           "BATSMAN"
          ],
          [
           "Harry Brook",
           "BATSMAN"
          ],
          [
           "Ajinkya Rahane",
           "BATSMAN"
          ],
          [
           "Joe Root",
           "BATSMAN"
          ],
          [
           "Rilee Rossouw",
           "BATSMAN"
          ],
          [
           "Kane Williamson",
           "BATSMAN"
          ],
          [
           "Sam Curran",
           "ALL-ROUNDER"
          ],
          [
           "Cameron Green",
           "ALL-ROUNDER"
          ],
          [
           "Shakib Al Hasan",
           "ALL-ROUNDER"
          ],
          [
           "Jason Holder",
           "ALL-ROUNDER"
          ],
          [
           "Sikandar Raza",
           "ALL-ROUNDER"
          ],
          [
           "Odean Smith",
           "ALL-ROUNDER"
          ],
          [
           "Ben Stokes",
           "ALL-ROUNDER"
          ],
          [
           "Litton Das",
           "WICKETKEEPER"
          ],
          [
           "Heinrich Klaasen",
           "WICKETKEEPER"
          ],
          [
           "Nicholas Pooran",
           "WICKETKEEPER"
          ],
          [
           "Phil Salt",
           "WICKETKEEPER"
          ],
          [
           "Jhye Richardson",
           "BOWLER"
          ],
          [
           "Ishant Sharma",
           "BOWLER"
          ],
          [
           "Reece Topley",
           "BOWLER"
          ],
          [
           "Jaydev Unadkat",
           "BOWLER"
          ],
          [
           "Akeal Hosein",
           "BOWLER"
          ],
          [
           "Mayank Markande",
           "BOWLER"
          ],
          [
           "Adil Rashid",
           "BOWLER"
          ],
          [
           "Adam Zampa",
           "BOWLER"
          ],
          [
           "Shaik Rasheed",
           "BATSMAN"
          ],
          [
           "Anmolpreet Singh",
           "BATSMAN"
          ],
          [
           "Vivrant Sharma",
           "ALL-ROUNDER"
          ],
          [
           "Nishant Sindhu",
           "ALL-ROUNDER"
          ],
          [
           "Sanvir Singh",
           "ALL-ROUNDER"
          ],
          [
           "Samarth Vyas",
           "ALL-ROUNDER"
          ],
          [
           "Vaibhav Arora",
           "BOWLER"
          ],
          [
           "Mukesh Kumar",
           "BOWLER"
          ],
          [
           "Shivam Mavi",
           "BOWLER"
          ],
          [
           "Yash Thakur",
           "BOWLER"
          ],
          [
           "Murugan Ashwin",
           "BOWLER"
          ],
          [
           "Himanshu Sharma",
           "BOWLER"
          ],
          [
           "Will Jacks",
           "BATSMAN"
          ],
          [
           "Manish Pandey",
           "BATSMAN"
          ],
          [
           "Mandeep Singh",
           "BATSMAN"
          ],
          [
           "Daniel Sams",
           "ALL-ROUNDER"
          ],
          [
           "Romario Shepherd",
           "ALL-ROUNDER"
          ],
          [
           "Kyle Jamieson",
           "BOWLER"
          ],
          [
           "Piyush Chawla",
           "BOWLER"
          ],
          [
           "Amit Mishra",
           "BOWLER"
          ],
          [
           "Harpreet Bhatia",
           "BATSMAN"
          ],
          [
           "Manoj Bhandage",
           "ALL-ROUNDER"
          ],
          [
           "Mayank Dagar",
           "ALL-ROUNDER"
          ],
          [
           "Duan Jansen",
           "ALL-ROUNDER"
          ],
          [
           "Prerak Mankad",
           "ALL-ROUNDER"
          ],
          [
           "Akash Vashisht",
           "ALL-ROUNDER"
          ],
          [
           "Donovan Ferreira",
           "WICKETKEEPER"
          ],
          [
           "Urvil Patel",
           "WICKETKEEPER"
          ],
          [
           "Vishnu Vinod",
           "WICKETKEEPER"
          ],
          [
           "Vidwath Kaverappa",
           "BOWLER"
          ],
          [
           "Rajan Kumar",
           "BOWLER"
          ],
          [
           "Suyash Sharma",
           "BOWLER"
          ],
          [
           "Naveen Ul Haq",
           "BOWLER"
          ],
          [
           "Joshua Little",
           "BOWLER"
          ],
          [
           "Mohit Sharma",
           "BOWLER"
          ],
          [
           "Yudhvir Charak",
           "ALL-ROUNDER"
          ],
          [
           "Shams Mulani",
           "ALL-ROUNDER"
          ],
          [
           "Swapnil Singh",
           "ALL-ROUNDER"
          ],
          [
           "David Wiese",
           "ALL-ROUNDER"
          ],
          [
           "Nitish Kumar Reddy",
           "WICKETKEEPER"
          ],
          [
           "Avinash Singh",
           "BOWLER"
          ],
          [
           "Raghav Goyal",
           "BOWLER"
          ],
          [
           "Kunal Rathore",
           "WICKETKEEPER"
          ],
          [
           "Sonu Yadav",
           "ALL-ROUNDER"
          ],
          [
           "Kulwant Khejroliya",
           "BOWLER"
          ],
          [
           "Ajay Mandal",
           "ALL-ROUNDER"
          ],
          [
           "Mohit Rathee",
           "ALL-ROUNDER"
          ],
          [
           "Nehal Wadhera",
           "ALL-ROUNDER"
          ],
          [
           "Bhagath Varma",
           "ALL-ROUNDER"
          ],
          [
           "Mahendra Singh Dhoni",
           "WICKETKEEPER"
          ],
          [
           "Shivam  Dubey",
           "ALL-ROUNDER"
          ],
          [
           "Ravindra  Jadeja",
           "ALL-ROUNDER"
          ],
          [
           "Devon  Convay",
           "BATSMAN"
          ],
          [
           "Mitchell Santner",
           "ALL-ROUNDER"
          ],
          [
           "Shubhman Gill",
           "BATSMAN"
          ],
          [
           "Hardik  Pandya",
           "ALL-ROUNDER"
          ],
          [
           "Sai  Sudarshan",
           "BATSMAN"
          ],
          [
           "Lockie Ferguesn",
           "BOWLER"
          ],
          [
           "Rashid  Khan ",
           "ALL-ROUNDER"
          ],
          [
           "Shreyas  Iyer",
           "BATSMAN"
          ],
          [
           "Nithish  Rana",
           "BATSMAN"
          ],
          [
           "Rinku  Singh",
           "BATSMAN"
          ],
          [
           "Rohit  Sharma",
           "BATSMAN"
          ],
          [
           "Jasprit Bumrah",
           "BOWLER"
          ],
          [
           "Tim David",
           "BATSMAN"
          ],
          [
           "Shikhar Dhawan",
           "BATSMAN"
          ],
          [
           "Arshdeep Singh",
           "BOWLER"
          ],
          [
           "Mandeep Singh",
           "BATSMAN"
          ],
          [
           "Jitesh  Sharma",
           "WICKETKEEPER"
          ],
          [
           "Shahrukh Khan",
           "ALL-ROUNDER"
          ],
          [
           "Kagiso Rabada",
           "BOWLER"
          ],
          [
           "Virat Kohli",
           "BATSMAN"
          ],
          [
           "Faf Du plesis",
           "BATSMAN"
          ],
          [
           "Glenn  Maxwell",
           "ALL-ROUNDER"
          ],
          [
           "Harshal  Patel",
           "ALL-ROUNDER"
          ],
          [
           "Devdutt Padikkal",
           "BATSMAN"
          ],
          [
           "Murugan Ashwin",
           "BOWLER"
          ],
          [
           "Jos  Butler",
           "WICKETKEEPER"
          ],
          [
           "KC Cariappa",
           "BOWLER"
          ],
          [
           "Axar Patel",
           "BATSMAN"
          ],
          [
           "Mustafizur Rahman",
           "BOWLER"
          ],
          [
           "Kuldeep  Yadav",
           "BOWLER"
          ],
          [
           "Rovman Powell",
           "ALL-ROUNDER"
          ],
          [
           "David Warner",
           "BATSMAN"
          ],
          [
           "Pravin Dubey",
           "ALL-ROUNDER"
          ],
          [
           "Mohamadullah Gurbaz",
           "WICKETKEEPER"
          ],
          [
           "Ravi Bishnoi",
           "BOWLER"
          ]
         ],
         "hovertemplate": "TEAM=%{x}<br>Player Age=%{y}<br>Player_Name=%{customdata[0]}<br>Specialism=%{customdata[1]}<extra></extra>",
         "legendgroup": "",
         "marker": {
          "color": "#636efa",
          "symbol": "circle"
         },
         "mode": "markers",
         "name": "",
         "orientation": "v",
         "showlegend": false,
         "type": "scatter",
         "x": [
          "SRH",
          "SRH",
          "CSK",
          "RR",
          "DC",
          "GT",
          "PBKS",
          "MI",
          "KKR",
          "RR",
          "PBKS",
          "GT",
          "CSK",
          "KKR",
          "SRH",
          "LSG",
          "DC",
          "MI",
          "DC",
          "RCB",
          "LSG",
          "SRH",
          "SRH",
          "SRH",
          "RR",
          "CSK",
          "SRH",
          "SRH",
          "CSK",
          "SRH",
          "SRH",
          "KKR",
          "DC",
          "GT",
          "LSG",
          "RR",
          "RCB",
          "RCB",
          "DC",
          "KKR",
          "LSG",
          "LSG",
          "CSK",
          "MI",
          "LSG",
          "PBKS",
          "RCB",
          "SRH",
          "MI",
          "LSG",
          "RR",
          "RR",
          "GT",
          "MI",
          "PBKS",
          "RCB",
          "KKR",
          "LSG",
          "GT",
          "GT",
          "LSG",
          "MI",
          "LSG",
          "KKR",
          "SRH",
          "RCB",
          "MI",
          "RR",
          "RCB",
          "KKR",
          "CSK",
          "PBKS",
          "MI",
          "CSK",
          "CSK",
          "CSK",
          "CSK",
          "CSK",
          "CSK",
          "GT",
          "GT",
          "GT",
          "GT",
          "GT",
          "KKR",
          "KKR",
          "KKR",
          "MI",
          "MI",
          "MI",
          "PBKS",
          "PBKS",
          "PBKS",
          "PBKS",
          "PBKS",
          "PBKS",
          "RCB",
          "RCB",
          "RCB",
          "RCB",
          "RR",
          "RR",
          "RR",
          "RR",
          "DC",
          "DC",
          "DC",
          "DC",
          "DC",
          "DC",
          "KKR",
          "LSG"
         ],
         "xaxis": "x",
         "y": [
          32,
          24,
          34,
          32,
          33,
          32,
          24,
          23,
          36,
          31,
          36,
          26,
          31,
          28,
          31,
          27,
          26,
          26,
          34,
          29,
          31,
          29,
          25,
          35,
          30,
          18,
          25,
          23,
          18,
          26,
          27,
          25,
          29,
          24,
          24,
          32,
          24,
          24,
          33,
          31,
          30,
          28,
          28,
          34,
          40,
          31,
          24,
          26,
          22,
          28,
          28,
          24,
          24,
          29,
          24,
          26,
          19,
          23,
          23,
          34,
          25,
          26,
          32,
          37,
          19,
          24,
          21,
          20,
          23,
          31,
          27,
          24,
          22,
          24,
          42,
          27,
          30,
          29,
          29,
          23,
          30,
          22,
          30,
          25,
          28,
          28,
          25,
          36,
          29,
          28,
          34,
          23,
          28,
          25,
          24,
          28,
          36,
          37,
          33,
          30,
          24,
          29,
          30,
          26,
          32,
          34,
          29,
          31,
          35,
          31,
          25,
          22
         ],
         "yaxis": "y"
        },
        {
         "hoverinfo": "text",
         "marker": {
          "color": "red",
          "size": 10,
          "symbol": "circle"
         },
         "mode": "markers",
         "name": "Mean Age",
         "text": [
          28.083333333333332,
          31.545454545454547,
          26.636363636363637,
          28.454545454545453,
          28.181818181818183,
          26.90909090909091,
          27.363636363636363,
          28.181818181818183,
          27.818181818181817,
          26.833333333333332
         ],
         "type": "scatter",
         "x": [
          "CSK",
          "DC",
          "GT",
          "KKR",
          "LSG",
          "MI",
          "PBKS",
          "RCB",
          "RR",
          "SRH"
         ],
         "y": [
          28.083333333333332,
          31.545454545454547,
          26.636363636363637,
          28.454545454545453,
          28.181818181818183,
          26.90909090909091,
          27.363636363636363,
          28.181818181818183,
          27.818181818181817,
          26.833333333333332
         ]
        }
       ],
       "layout": {
        "legend": {
         "tracegroupgap": 0
        },
        "template": {
         "data": {
          "bar": [
           {
            "error_x": {
             "color": "#f2f5fa"
            },
            "error_y": {
             "color": "#f2f5fa"
            },
            "marker": {
             "line": {
              "color": "rgb(17,17,17)",
              "width": 0.5
             },
             "pattern": {
              "fillmode": "overlay",
              "size": 10,
              "solidity": 0.2
             }
            },
            "type": "bar"
           }
          ],
          "barpolar": [
           {
            "marker": {
             "line": {
              "color": "rgb(17,17,17)",
              "width": 0.5
             },
             "pattern": {
              "fillmode": "overlay",
              "size": 10,
              "solidity": 0.2
             }
            },
            "type": "barpolar"
           }
          ],
          "carpet": [
           {
            "aaxis": {
             "endlinecolor": "#A2B1C6",
             "gridcolor": "#506784",
             "linecolor": "#506784",
             "minorgridcolor": "#506784",
             "startlinecolor": "#A2B1C6"
            },
            "baxis": {
             "endlinecolor": "#A2B1C6",
             "gridcolor": "#506784",
             "linecolor": "#506784",
             "minorgridcolor": "#506784",
             "startlinecolor": "#A2B1C6"
            },
            "type": "carpet"
           }
          ],
          "choropleth": [
           {
            "colorbar": {
             "outlinewidth": 0,
             "ticks": ""
            },
            "type": "choropleth"
           }
          ],
          "contour": [
           {
            "colorbar": {
             "outlinewidth": 0,
             "ticks": ""
            },
            "colorscale": [
             [
              0,
              "#0d0887"
             ],
             [
              0.1111111111111111,
              "#46039f"
             ],
             [
              0.2222222222222222,
              "#7201a8"
             ],
             [
              0.3333333333333333,
              "#9c179e"
             ],
             [
              0.4444444444444444,
              "#bd3786"
             ],
             [
              0.5555555555555556,
              "#d8576b"
             ],
             [
              0.6666666666666666,
              "#ed7953"
             ],
             [
              0.7777777777777778,
              "#fb9f3a"
             ],
             [
              0.8888888888888888,
              "#fdca26"
             ],
             [
              1,
              "#f0f921"
             ]
            ],
            "type": "contour"
           }
          ],
          "contourcarpet": [
           {
            "colorbar": {
             "outlinewidth": 0,
             "ticks": ""
            },
            "type": "contourcarpet"
           }
          ],
          "heatmap": [
           {
            "colorbar": {
             "outlinewidth": 0,
             "ticks": ""
            },
            "colorscale": [
             [
              0,
              "#0d0887"
             ],
             [
              0.1111111111111111,
              "#46039f"
             ],
             [
              0.2222222222222222,
              "#7201a8"
             ],
             [
              0.3333333333333333,
              "#9c179e"
             ],
             [
              0.4444444444444444,
              "#bd3786"
             ],
             [
              0.5555555555555556,
              "#d8576b"
             ],
             [
              0.6666666666666666,
              "#ed7953"
             ],
             [
              0.7777777777777778,
              "#fb9f3a"
             ],
             [
              0.8888888888888888,
              "#fdca26"
             ],
             [
              1,
              "#f0f921"
             ]
            ],
            "type": "heatmap"
           }
          ],
          "heatmapgl": [
           {
            "colorbar": {
             "outlinewidth": 0,
             "ticks": ""
            },
            "colorscale": [
             [
              0,
              "#0d0887"
             ],
             [
              0.1111111111111111,
              "#46039f"
             ],
             [
              0.2222222222222222,
              "#7201a8"
             ],
             [
              0.3333333333333333,
              "#9c179e"
             ],
             [
              0.4444444444444444,
              "#bd3786"
             ],
             [
              0.5555555555555556,
              "#d8576b"
             ],
             [
              0.6666666666666666,
              "#ed7953"
             ],
             [
              0.7777777777777778,
              "#fb9f3a"
             ],
             [
              0.8888888888888888,
              "#fdca26"
             ],
             [
              1,
              "#f0f921"
             ]
            ],
            "type": "heatmapgl"
           }
          ],
          "histogram": [
           {
            "marker": {
             "pattern": {
              "fillmode": "overlay",
              "size": 10,
              "solidity": 0.2
             }
            },
            "type": "histogram"
           }
          ],
          "histogram2d": [
           {
            "colorbar": {
             "outlinewidth": 0,
             "ticks": ""
            },
            "colorscale": [
             [
              0,
              "#0d0887"
             ],
             [
              0.1111111111111111,
              "#46039f"
             ],
             [
              0.2222222222222222,
              "#7201a8"
             ],
             [
              0.3333333333333333,
              "#9c179e"
             ],
             [
              0.4444444444444444,
              "#bd3786"
             ],
             [
              0.5555555555555556,
              "#d8576b"
             ],
             [
              0.6666666666666666,
              "#ed7953"
             ],
             [
              0.7777777777777778,
              "#fb9f3a"
             ],
             [
              0.8888888888888888,
              "#fdca26"
             ],
             [
              1,
              "#f0f921"
             ]
            ],
            "type": "histogram2d"
           }
          ],
          "histogram2dcontour": [
           {
            "colorbar": {
             "outlinewidth": 0,
             "ticks": ""
            },
            "colorscale": [
             [
              0,
              "#0d0887"
             ],
             [
              0.1111111111111111,
              "#46039f"
             ],
             [
              0.2222222222222222,
              "#7201a8"
             ],
             [
              0.3333333333333333,
              "#9c179e"
             ],
             [
              0.4444444444444444,
              "#bd3786"
             ],
             [
              0.5555555555555556,
              "#d8576b"
             ],
             [
              0.6666666666666666,
              "#ed7953"
             ],
             [
              0.7777777777777778,
              "#fb9f3a"
             ],
             [
              0.8888888888888888,
              "#fdca26"
             ],
             [
              1,
              "#f0f921"
             ]
            ],
            "type": "histogram2dcontour"
           }
          ],
          "mesh3d": [
           {
            "colorbar": {
             "outlinewidth": 0,
             "ticks": ""
            },
            "type": "mesh3d"
           }
          ],
          "parcoords": [
           {
            "line": {
             "colorbar": {
              "outlinewidth": 0,
              "ticks": ""
             }
            },
            "type": "parcoords"
           }
          ],
          "pie": [
           {
            "automargin": true,
            "type": "pie"
           }
          ],
          "scatter": [
           {
            "marker": {
             "line": {
              "color": "#283442"
             }
            },
            "type": "scatter"
           }
          ],
          "scatter3d": [
           {
            "line": {
             "colorbar": {
              "outlinewidth": 0,
              "ticks": ""
             }
            },
            "marker": {
             "colorbar": {
              "outlinewidth": 0,
              "ticks": ""
             }
            },
            "type": "scatter3d"
           }
          ],
          "scattercarpet": [
           {
            "marker": {
             "colorbar": {
              "outlinewidth": 0,
              "ticks": ""
             }
            },
            "type": "scattercarpet"
           }
          ],
          "scattergeo": [
           {
            "marker": {
             "colorbar": {
              "outlinewidth": 0,
              "ticks": ""
             }
            },
            "type": "scattergeo"
           }
          ],
          "scattergl": [
           {
            "marker": {
             "line": {
              "color": "#283442"
             }
            },
            "type": "scattergl"
           }
          ],
          "scattermapbox": [
           {
            "marker": {
             "colorbar": {
              "outlinewidth": 0,
              "ticks": ""
             }
            },
            "type": "scattermapbox"
           }
          ],
          "scatterpolar": [
           {
            "marker": {
             "colorbar": {
              "outlinewidth": 0,
              "ticks": ""
             }
            },
            "type": "scatterpolar"
           }
          ],
          "scatterpolargl": [
           {
            "marker": {
             "colorbar": {
              "outlinewidth": 0,
              "ticks": ""
             }
            },
            "type": "scatterpolargl"
           }
          ],
          "scatterternary": [
           {
            "marker": {
             "colorbar": {
              "outlinewidth": 0,
              "ticks": ""
             }
            },
            "type": "scatterternary"
           }
          ],
          "surface": [
           {
            "colorbar": {
             "outlinewidth": 0,
             "ticks": ""
            },
            "colorscale": [
             [
              0,
              "#0d0887"
             ],
             [
              0.1111111111111111,
              "#46039f"
             ],
             [
              0.2222222222222222,
              "#7201a8"
             ],
             [
              0.3333333333333333,
              "#9c179e"
             ],
             [
              0.4444444444444444,
              "#bd3786"
             ],
             [
              0.5555555555555556,
              "#d8576b"
             ],
             [
              0.6666666666666666,
              "#ed7953"
             ],
             [
              0.7777777777777778,
              "#fb9f3a"
             ],
             [
              0.8888888888888888,
              "#fdca26"
             ],
             [
              1,
              "#f0f921"
             ]
            ],
            "type": "surface"
           }
          ],
          "table": [
           {
            "cells": {
             "fill": {
              "color": "#506784"
             },
             "line": {
              "color": "rgb(17,17,17)"
             }
            },
            "header": {
             "fill": {
              "color": "#2a3f5f"
             },
             "line": {
              "color": "rgb(17,17,17)"
             }
            },
            "type": "table"
           }
          ]
         },
         "layout": {
          "annotationdefaults": {
           "arrowcolor": "#f2f5fa",
           "arrowhead": 0,
           "arrowwidth": 1
          },
          "autotypenumbers": "strict",
          "coloraxis": {
           "colorbar": {
            "outlinewidth": 0,
            "ticks": ""
           }
          },
          "colorscale": {
           "diverging": [
            [
             0,
             "#8e0152"
            ],
            [
             0.1,
             "#c51b7d"
            ],
            [
             0.2,
             "#de77ae"
            ],
            [
             0.3,
             "#f1b6da"
            ],
            [
             0.4,
             "#fde0ef"
            ],
            [
             0.5,
             "#f7f7f7"
            ],
            [
             0.6,
             "#e6f5d0"
            ],
            [
             0.7,
             "#b8e186"
            ],
            [
             0.8,
             "#7fbc41"
            ],
            [
             0.9,
             "#4d9221"
            ],
            [
             1,
             "#276419"
            ]
           ],
           "sequential": [
            [
             0,
             "#0d0887"
            ],
            [
             0.1111111111111111,
             "#46039f"
            ],
            [
             0.2222222222222222,
             "#7201a8"
            ],
            [
             0.3333333333333333,
             "#9c179e"
            ],
            [
             0.4444444444444444,
             "#bd3786"
            ],
            [
             0.5555555555555556,
             "#d8576b"
            ],
            [
             0.6666666666666666,
             "#ed7953"
            ],
            [
             0.7777777777777778,
             "#fb9f3a"
            ],
            [
             0.8888888888888888,
             "#fdca26"
            ],
            [
             1,
             "#f0f921"
            ]
           ],
           "sequentialminus": [
            [
             0,
             "#0d0887"
            ],
            [
             0.1111111111111111,
             "#46039f"
            ],
            [
             0.2222222222222222,
             "#7201a8"
            ],
            [
             0.3333333333333333,
             "#9c179e"
            ],
            [
             0.4444444444444444,
             "#bd3786"
            ],
            [
             0.5555555555555556,
             "#d8576b"
            ],
            [
             0.6666666666666666,
             "#ed7953"
            ],
            [
             0.7777777777777778,
             "#fb9f3a"
            ],
            [
             0.8888888888888888,
             "#fdca26"
            ],
            [
             1,
             "#f0f921"
            ]
           ]
          },
          "colorway": [
           "#636efa",
           "#EF553B",
           "#00cc96",
           "#ab63fa",
           "#FFA15A",
           "#19d3f3",
           "#FF6692",
           "#B6E880",
           "#FF97FF",
           "#FECB52"
          ],
          "font": {
           "color": "#f2f5fa"
          },
          "geo": {
           "bgcolor": "rgb(17,17,17)",
           "lakecolor": "rgb(17,17,17)",
           "landcolor": "rgb(17,17,17)",
           "showlakes": true,
           "showland": true,
           "subunitcolor": "#506784"
          },
          "hoverlabel": {
           "align": "left"
          },
          "hovermode": "closest",
          "mapbox": {
           "style": "dark"
          },
          "paper_bgcolor": "rgb(17,17,17)",
          "plot_bgcolor": "rgb(17,17,17)",
          "polar": {
           "angularaxis": {
            "gridcolor": "#506784",
            "linecolor": "#506784",
            "ticks": ""
           },
           "bgcolor": "rgb(17,17,17)",
           "radialaxis": {
            "gridcolor": "#506784",
            "linecolor": "#506784",
            "ticks": ""
           }
          },
          "scene": {
           "xaxis": {
            "backgroundcolor": "rgb(17,17,17)",
            "gridcolor": "#506784",
            "gridwidth": 2,
            "linecolor": "#506784",
            "showbackground": true,
            "ticks": "",
            "zerolinecolor": "#C8D4E3"
           },
           "yaxis": {
            "backgroundcolor": "rgb(17,17,17)",
            "gridcolor": "#506784",
            "gridwidth": 2,
            "linecolor": "#506784",
            "showbackground": true,
            "ticks": "",
            "zerolinecolor": "#C8D4E3"
           },
           "zaxis": {
            "backgroundcolor": "rgb(17,17,17)",
            "gridcolor": "#506784",
            "gridwidth": 2,
            "linecolor": "#506784",
            "showbackground": true,
            "ticks": "",
            "zerolinecolor": "#C8D4E3"
           }
          },
          "shapedefaults": {
           "line": {
            "color": "#f2f5fa"
           }
          },
          "sliderdefaults": {
           "bgcolor": "#C8D4E3",
           "bordercolor": "rgb(17,17,17)",
           "borderwidth": 1,
           "tickwidth": 0
          },
          "ternary": {
           "aaxis": {
            "gridcolor": "#506784",
            "linecolor": "#506784",
            "ticks": ""
           },
           "baxis": {
            "gridcolor": "#506784",
            "linecolor": "#506784",
            "ticks": ""
           },
           "bgcolor": "rgb(17,17,17)",
           "caxis": {
            "gridcolor": "#506784",
            "linecolor": "#506784",
            "ticks": ""
           }
          },
          "title": {
           "x": 0.05
          },
          "updatemenudefaults": {
           "bgcolor": "#506784",
           "borderwidth": 0
          },
          "xaxis": {
           "automargin": true,
           "gridcolor": "#283442",
           "linecolor": "#506784",
           "ticks": "",
           "title": {
            "standoff": 15
           },
           "zerolinecolor": "#283442",
           "zerolinewidth": 2
          },
          "yaxis": {
           "automargin": true,
           "gridcolor": "#283442",
           "linecolor": "#506784",
           "ticks": "",
           "title": {
            "standoff": 15
           },
           "zerolinecolor": "#283442",
           "zerolinewidth": 2
          }
         }
        },
        "title": {
         "text": "Player Ages within Each Team"
        },
        "xaxis": {
         "anchor": "y",
         "domain": [
          0,
          1
         ],
         "title": {
          "text": "TEAM"
         }
        },
        "yaxis": {
         "anchor": "x",
         "domain": [
          0,
          1
         ],
         "title": {
          "text": "Player Age"
         }
        }
       }
      }
     },
     "metadata": {},
     "output_type": "display_data"
    }
   ],
   "source": [
    "# Accompanying code for mean age of players within each team (Scatter and strip plot)\n",
    "mean_age_players = Auction_2023[Auction_2023['TEAM'] != 'UnSold'].groupby('TEAM')['Age'].mean().reset_index()\n",
    "\n",
    "\n",
    "# Strip plot for individual player ages within each team\n",
    "fig2 = px.scatter(Auction_2023[Auction_2023['TEAM'] != 'UnSold'], x='TEAM', y='Age',\n",
    "                  title='Player Ages within Each Team', labels={'Age': 'Player Age', 'TEAM': 'TEAM'},\n",
    "                  template='plotly_dark', hover_data={'TEAM': True, 'Age': True, 'Player_Name': True, 'Specialism': True})\n",
    "\n",
    "# Add mean age as red dots for each team\n",
    "fig2.add_trace(go.Scatter(x=mean_age_players['TEAM'], y=mean_age_players['Age'],\n",
    "                          mode='markers', marker=dict(color='red', symbol='circle', size=10),\n",
    "                          name='Mean Age',\n",
    "                          text=mean_age_players['Age'],  # Display player age on hover\n",
    "                          hoverinfo='text'))  # Show text on hover\n",
    "fig2"
   ]
  },
  {
   "cell_type": "markdown",
   "metadata": {},
   "source": [
    "3.Bubble Chart ( AUction Price vs Runs Scored (Bubble size represent Wickets- Taken):This Chart portraying Auction Price versus Runs Scored and Wickets Taken emerges as the third essential visualization within the dashboard. Here, the x-axis signifies the previous investments made during auctions, the y-axis represents the runs scored by the players, while the size of the bubbles correlates to the number of wickets taken by the usual playing 11 in the preceding year.\n",
    "\n",
    "This visualization serves as a critical evaluation tool for DC to retrospectively analyze their past strategic decisions and their subsequent outcomes. Notably, the team's investments in players like Mukesh at 550 Lakhs yielded significant success, with Mukesh emerging as a -performing asset by securing 21 wickets, validating the substantial investment made in him. Similarly, the investment of 220 Lakhs in David Warner proved fruitful as he emerged as the top scorer in the season, validating the investment with an outstanding performance. Furthermore, Ishant's  acquisition at 50 Lakhs proved to be an astute move, contributing significantly to the team's success by securing 14 crucial wickets.\n",
    " From a business perspective, this analysis delineates the significance of strategic investments in cricketing talent. It underscores the correlation between investments made during auctions and the subsequent on-field performances, elucidating how prudent investments in players, considering their past performance and potential contributions, can significantly impact a team's success. The success stories of Mukesh, David Warner, and Ishant exemplify the importance of judicious financial allocations in securing high-performing players, reinforcing the team's competitiveness and augmenting its chances for success in future tournaments."
   ]
  },
  {
   "cell_type": "code",
   "execution_count": 4,
   "metadata": {},
   "outputs": [
    {
     "data": {
      "application/vnd.plotly.v1+json": {
       "config": {
        "plotlyServerURL": "https://plot.ly"
       },
       "data": [
        {
         "customdata": [
          [
           1
          ],
          [
           1
          ],
          [
           14
          ],
          [
           21
          ],
          [
           1
          ],
          [
           19
          ],
          [
           17
          ],
          [
           10
          ],
          [
           6
          ],
          [
           1
          ],
          [
           3
          ]
         ],
         "hovertemplate": "<b>%{hovertext}</b><br><br>Auction Price=%{x}<br>Runs Scored=%{y}<br>Wickets Taken=%{customdata[0]}<extra></extra>",
         "hovertext": [
          "Rilee",
          "Phil",
          "Ishant",
          "Mukesh",
          "Manish",
          "Axar",
          "Mustafizur",
          "Kuldeep ",
          "Rovman",
          "David",
          "Pravin"
         ],
         "legendgroup": "",
         "marker": {
          "color": "#636efa",
          "size": [
           1,
           1,
           14,
           21,
           1,
           19,
           17,
           10,
           6,
           1,
           3
          ],
          "sizemode": "area",
          "sizeref": 0.023333333333333334,
          "symbol": "circle"
         },
         "mode": "markers",
         "name": "",
         "orientation": "v",
         "showlegend": false,
         "type": "scatter",
         "x": [
          460,
          200,
          50,
          550,
          240,
          180,
          400,
          250,
          150,
          220,
          80
         ],
         "xaxis": "x",
         "y": [
          280,
          422,
          11,
          26,
          218,
          192,
          0,
          22,
          199,
          563,
          12
         ],
         "yaxis": "y"
        }
       ],
       "layout": {
        "legend": {
         "itemsizing": "constant",
         "tracegroupgap": 0
        },
        "template": {
         "data": {
          "bar": [
           {
            "error_x": {
             "color": "#2a3f5f"
            },
            "error_y": {
             "color": "#2a3f5f"
            },
            "marker": {
             "line": {
              "color": "#E5ECF6",
              "width": 0.5
             },
             "pattern": {
              "fillmode": "overlay",
              "size": 10,
              "solidity": 0.2
             }
            },
            "type": "bar"
           }
          ],
          "barpolar": [
           {
            "marker": {
             "line": {
              "color": "#E5ECF6",
              "width": 0.5
             },
             "pattern": {
              "fillmode": "overlay",
              "size": 10,
              "solidity": 0.2
             }
            },
            "type": "barpolar"
           }
          ],
          "carpet": [
           {
            "aaxis": {
             "endlinecolor": "#2a3f5f",
             "gridcolor": "white",
             "linecolor": "white",
             "minorgridcolor": "white",
             "startlinecolor": "#2a3f5f"
            },
            "baxis": {
             "endlinecolor": "#2a3f5f",
             "gridcolor": "white",
             "linecolor": "white",
             "minorgridcolor": "white",
             "startlinecolor": "#2a3f5f"
            },
            "type": "carpet"
           }
          ],
          "choropleth": [
           {
            "colorbar": {
             "outlinewidth": 0,
             "ticks": ""
            },
            "type": "choropleth"
           }
          ],
          "contour": [
           {
            "colorbar": {
             "outlinewidth": 0,
             "ticks": ""
            },
            "colorscale": [
             [
              0,
              "#0d0887"
             ],
             [
              0.1111111111111111,
              "#46039f"
             ],
             [
              0.2222222222222222,
              "#7201a8"
             ],
             [
              0.3333333333333333,
              "#9c179e"
             ],
             [
              0.4444444444444444,
              "#bd3786"
             ],
             [
              0.5555555555555556,
              "#d8576b"
             ],
             [
              0.6666666666666666,
              "#ed7953"
             ],
             [
              0.7777777777777778,
              "#fb9f3a"
             ],
             [
              0.8888888888888888,
              "#fdca26"
             ],
             [
              1,
              "#f0f921"
             ]
            ],
            "type": "contour"
           }
          ],
          "contourcarpet": [
           {
            "colorbar": {
             "outlinewidth": 0,
             "ticks": ""
            },
            "type": "contourcarpet"
           }
          ],
          "heatmap": [
           {
            "colorbar": {
             "outlinewidth": 0,
             "ticks": ""
            },
            "colorscale": [
             [
              0,
              "#0d0887"
             ],
             [
              0.1111111111111111,
              "#46039f"
             ],
             [
              0.2222222222222222,
              "#7201a8"
             ],
             [
              0.3333333333333333,
              "#9c179e"
             ],
             [
              0.4444444444444444,
              "#bd3786"
             ],
             [
              0.5555555555555556,
              "#d8576b"
             ],
             [
              0.6666666666666666,
              "#ed7953"
             ],
             [
              0.7777777777777778,
              "#fb9f3a"
             ],
             [
              0.8888888888888888,
              "#fdca26"
             ],
             [
              1,
              "#f0f921"
             ]
            ],
            "type": "heatmap"
           }
          ],
          "heatmapgl": [
           {
            "colorbar": {
             "outlinewidth": 0,
             "ticks": ""
            },
            "colorscale": [
             [
              0,
              "#0d0887"
             ],
             [
              0.1111111111111111,
              "#46039f"
             ],
             [
              0.2222222222222222,
              "#7201a8"
             ],
             [
              0.3333333333333333,
              "#9c179e"
             ],
             [
              0.4444444444444444,
              "#bd3786"
             ],
             [
              0.5555555555555556,
              "#d8576b"
             ],
             [
              0.6666666666666666,
              "#ed7953"
             ],
             [
              0.7777777777777778,
              "#fb9f3a"
             ],
             [
              0.8888888888888888,
              "#fdca26"
             ],
             [
              1,
              "#f0f921"
             ]
            ],
            "type": "heatmapgl"
           }
          ],
          "histogram": [
           {
            "marker": {
             "pattern": {
              "fillmode": "overlay",
              "size": 10,
              "solidity": 0.2
             }
            },
            "type": "histogram"
           }
          ],
          "histogram2d": [
           {
            "colorbar": {
             "outlinewidth": 0,
             "ticks": ""
            },
            "colorscale": [
             [
              0,
              "#0d0887"
             ],
             [
              0.1111111111111111,
              "#46039f"
             ],
             [
              0.2222222222222222,
              "#7201a8"
             ],
             [
              0.3333333333333333,
              "#9c179e"
             ],
             [
              0.4444444444444444,
              "#bd3786"
             ],
             [
              0.5555555555555556,
              "#d8576b"
             ],
             [
              0.6666666666666666,
              "#ed7953"
             ],
             [
              0.7777777777777778,
              "#fb9f3a"
             ],
             [
              0.8888888888888888,
              "#fdca26"
             ],
             [
              1,
              "#f0f921"
             ]
            ],
            "type": "histogram2d"
           }
          ],
          "histogram2dcontour": [
           {
            "colorbar": {
             "outlinewidth": 0,
             "ticks": ""
            },
            "colorscale": [
             [
              0,
              "#0d0887"
             ],
             [
              0.1111111111111111,
              "#46039f"
             ],
             [
              0.2222222222222222,
              "#7201a8"
             ],
             [
              0.3333333333333333,
              "#9c179e"
             ],
             [
              0.4444444444444444,
              "#bd3786"
             ],
             [
              0.5555555555555556,
              "#d8576b"
             ],
             [
              0.6666666666666666,
              "#ed7953"
             ],
             [
              0.7777777777777778,
              "#fb9f3a"
             ],
             [
              0.8888888888888888,
              "#fdca26"
             ],
             [
              1,
              "#f0f921"
             ]
            ],
            "type": "histogram2dcontour"
           }
          ],
          "mesh3d": [
           {
            "colorbar": {
             "outlinewidth": 0,
             "ticks": ""
            },
            "type": "mesh3d"
           }
          ],
          "parcoords": [
           {
            "line": {
             "colorbar": {
              "outlinewidth": 0,
              "ticks": ""
             }
            },
            "type": "parcoords"
           }
          ],
          "pie": [
           {
            "automargin": true,
            "type": "pie"
           }
          ],
          "scatter": [
           {
            "fillpattern": {
             "fillmode": "overlay",
             "size": 10,
             "solidity": 0.2
            },
            "type": "scatter"
           }
          ],
          "scatter3d": [
           {
            "line": {
             "colorbar": {
              "outlinewidth": 0,
              "ticks": ""
             }
            },
            "marker": {
             "colorbar": {
              "outlinewidth": 0,
              "ticks": ""
             }
            },
            "type": "scatter3d"
           }
          ],
          "scattercarpet": [
           {
            "marker": {
             "colorbar": {
              "outlinewidth": 0,
              "ticks": ""
             }
            },
            "type": "scattercarpet"
           }
          ],
          "scattergeo": [
           {
            "marker": {
             "colorbar": {
              "outlinewidth": 0,
              "ticks": ""
             }
            },
            "type": "scattergeo"
           }
          ],
          "scattergl": [
           {
            "marker": {
             "colorbar": {
              "outlinewidth": 0,
              "ticks": ""
             }
            },
            "type": "scattergl"
           }
          ],
          "scattermapbox": [
           {
            "marker": {
             "colorbar": {
              "outlinewidth": 0,
              "ticks": ""
             }
            },
            "type": "scattermapbox"
           }
          ],
          "scatterpolar": [
           {
            "marker": {
             "colorbar": {
              "outlinewidth": 0,
              "ticks": ""
             }
            },
            "type": "scatterpolar"
           }
          ],
          "scatterpolargl": [
           {
            "marker": {
             "colorbar": {
              "outlinewidth": 0,
              "ticks": ""
             }
            },
            "type": "scatterpolargl"
           }
          ],
          "scatterternary": [
           {
            "marker": {
             "colorbar": {
              "outlinewidth": 0,
              "ticks": ""
             }
            },
            "type": "scatterternary"
           }
          ],
          "surface": [
           {
            "colorbar": {
             "outlinewidth": 0,
             "ticks": ""
            },
            "colorscale": [
             [
              0,
              "#0d0887"
             ],
             [
              0.1111111111111111,
              "#46039f"
             ],
             [
              0.2222222222222222,
              "#7201a8"
             ],
             [
              0.3333333333333333,
              "#9c179e"
             ],
             [
              0.4444444444444444,
              "#bd3786"
             ],
             [
              0.5555555555555556,
              "#d8576b"
             ],
             [
              0.6666666666666666,
              "#ed7953"
             ],
             [
              0.7777777777777778,
              "#fb9f3a"
             ],
             [
              0.8888888888888888,
              "#fdca26"
             ],
             [
              1,
              "#f0f921"
             ]
            ],
            "type": "surface"
           }
          ],
          "table": [
           {
            "cells": {
             "fill": {
              "color": "#EBF0F8"
             },
             "line": {
              "color": "white"
             }
            },
            "header": {
             "fill": {
              "color": "#C8D4E3"
             },
             "line": {
              "color": "white"
             }
            },
            "type": "table"
           }
          ]
         },
         "layout": {
          "annotationdefaults": {
           "arrowcolor": "#2a3f5f",
           "arrowhead": 0,
           "arrowwidth": 1
          },
          "autotypenumbers": "strict",
          "coloraxis": {
           "colorbar": {
            "outlinewidth": 0,
            "ticks": ""
           }
          },
          "colorscale": {
           "diverging": [
            [
             0,
             "#8e0152"
            ],
            [
             0.1,
             "#c51b7d"
            ],
            [
             0.2,
             "#de77ae"
            ],
            [
             0.3,
             "#f1b6da"
            ],
            [
             0.4,
             "#fde0ef"
            ],
            [
             0.5,
             "#f7f7f7"
            ],
            [
             0.6,
             "#e6f5d0"
            ],
            [
             0.7,
             "#b8e186"
            ],
            [
             0.8,
             "#7fbc41"
            ],
            [
             0.9,
             "#4d9221"
            ],
            [
             1,
             "#276419"
            ]
           ],
           "sequential": [
            [
             0,
             "#0d0887"
            ],
            [
             0.1111111111111111,
             "#46039f"
            ],
            [
             0.2222222222222222,
             "#7201a8"
            ],
            [
             0.3333333333333333,
             "#9c179e"
            ],
            [
             0.4444444444444444,
             "#bd3786"
            ],
            [
             0.5555555555555556,
             "#d8576b"
            ],
            [
             0.6666666666666666,
             "#ed7953"
            ],
            [
             0.7777777777777778,
             "#fb9f3a"
            ],
            [
             0.8888888888888888,
             "#fdca26"
            ],
            [
             1,
             "#f0f921"
            ]
           ],
           "sequentialminus": [
            [
             0,
             "#0d0887"
            ],
            [
             0.1111111111111111,
             "#46039f"
            ],
            [
             0.2222222222222222,
             "#7201a8"
            ],
            [
             0.3333333333333333,
             "#9c179e"
            ],
            [
             0.4444444444444444,
             "#bd3786"
            ],
            [
             0.5555555555555556,
             "#d8576b"
            ],
            [
             0.6666666666666666,
             "#ed7953"
            ],
            [
             0.7777777777777778,
             "#fb9f3a"
            ],
            [
             0.8888888888888888,
             "#fdca26"
            ],
            [
             1,
             "#f0f921"
            ]
           ]
          },
          "colorway": [
           "#636efa",
           "#EF553B",
           "#00cc96",
           "#ab63fa",
           "#FFA15A",
           "#19d3f3",
           "#FF6692",
           "#B6E880",
           "#FF97FF",
           "#FECB52"
          ],
          "font": {
           "color": "#2a3f5f"
          },
          "geo": {
           "bgcolor": "white",
           "lakecolor": "white",
           "landcolor": "#E5ECF6",
           "showlakes": true,
           "showland": true,
           "subunitcolor": "white"
          },
          "hoverlabel": {
           "align": "left"
          },
          "hovermode": "closest",
          "mapbox": {
           "style": "light"
          },
          "paper_bgcolor": "white",
          "plot_bgcolor": "#E5ECF6",
          "polar": {
           "angularaxis": {
            "gridcolor": "white",
            "linecolor": "white",
            "ticks": ""
           },
           "bgcolor": "#E5ECF6",
           "radialaxis": {
            "gridcolor": "white",
            "linecolor": "white",
            "ticks": ""
           }
          },
          "scene": {
           "xaxis": {
            "backgroundcolor": "#E5ECF6",
            "gridcolor": "white",
            "gridwidth": 2,
            "linecolor": "white",
            "showbackground": true,
            "ticks": "",
            "zerolinecolor": "white"
           },
           "yaxis": {
            "backgroundcolor": "#E5ECF6",
            "gridcolor": "white",
            "gridwidth": 2,
            "linecolor": "white",
            "showbackground": true,
            "ticks": "",
            "zerolinecolor": "white"
           },
           "zaxis": {
            "backgroundcolor": "#E5ECF6",
            "gridcolor": "white",
            "gridwidth": 2,
            "linecolor": "white",
            "showbackground": true,
            "ticks": "",
            "zerolinecolor": "white"
           }
          },
          "shapedefaults": {
           "line": {
            "color": "#2a3f5f"
           }
          },
          "ternary": {
           "aaxis": {
            "gridcolor": "white",
            "linecolor": "white",
            "ticks": ""
           },
           "baxis": {
            "gridcolor": "white",
            "linecolor": "white",
            "ticks": ""
           },
           "bgcolor": "#E5ECF6",
           "caxis": {
            "gridcolor": "white",
            "linecolor": "white",
            "ticks": ""
           }
          },
          "title": {
           "x": 0.05
          },
          "xaxis": {
           "automargin": true,
           "gridcolor": "white",
           "linecolor": "white",
           "ticks": "",
           "title": {
            "standoff": 15
           },
           "zerolinecolor": "white",
           "zerolinewidth": 2
          },
          "yaxis": {
           "automargin": true,
           "gridcolor": "white",
           "linecolor": "white",
           "ticks": "",
           "title": {
            "standoff": 15
           },
           "zerolinecolor": "white",
           "zerolinewidth": 2
          }
         }
        },
        "title": {
         "text": "Auction Price vs. Runs Scored (Bubble size represents Wickets Taken)"
        },
        "xaxis": {
         "anchor": "y",
         "domain": [
          0,
          1
         ],
         "title": {
          "text": "Auction Price"
         }
        },
        "yaxis": {
         "anchor": "x",
         "domain": [
          0,
          1
         ],
         "title": {
          "text": "Runs Scored"
         }
        }
       }
      }
     },
     "metadata": {},
     "output_type": "display_data"
    },
    {
     "name": "stderr",
     "output_type": "stream",
     "text": [
      "c:\\Users\\VAIBHAVI T\\anaconda33\\Lib\\site-packages\\dash\\resources.py:61: UserWarning:\n",
      "\n",
      "You have set your config to `serve_locally=True` but A local version of ['https://stackpath.bootstrapcdn.com/bootstrap/4.3.1/css/bootstrap.min.css'] is not available.\n",
      "If you added this file with `app.scripts.append_script` or `app.css.append_css`, use `external_scripts` or `external_stylesheets` instead.\n",
      "See https://dash.plotly.com/external-resources\n",
      "\n"
     ]
    }
   ],
   "source": [
    "fig = px.scatter(df_PlayerAnalysis, x='Auction_Price', y='Runs Scored', size='Wickets Taken',\n",
    "                 hover_name='First Name', hover_data=['Auction_Price', 'Wickets Taken'],\n",
    "                 labels={'Auction_Price': 'Auction Price', 'Runs Scored': 'Runs Scored'},\n",
    "                 title='Auction Price vs. Runs Scored (Bubble size represents Wickets Taken)',\n",
    "                 size_max=30)\n",
    "fig"
   ]
  },
  {
   "cell_type": "markdown",
   "metadata": {},
   "source": [
    "## 9. Reflective Evaluation\n",
    "Delving into sports analytics, especially cricket, was a natural progression given my profound interest in the sport. I aimed to bind business data with sports, recognizing its significance encompassing advertising, investments, leagues, player demands, and performance metrics.\n",
    "\n",
    "Coming from a coding background, employing Python's Plotly for chart creation in the Dash app felt like somehow comfortable. However, incorporating HTML elements for styling components was a fresh challenge that expanded my hands-on expertise.\n",
    "\n",
    "Obtaining the right data was an initial concern, but Kaggle emerged as a treasure trove of extensive datasets, providing the information pivotal\n",
    " for in-depth player and team analysis in the dashboard.\n",
    "\n",
    "Throughout this project, I honed technical skills in data analysis, visualization, and informed decision-making.\n",
    " Simultaneously, it fostered the development of soft skills such as effective time management and adept problem-solving, enriching my overall skill set."
   ]
  },
  {
   "cell_type": "markdown",
   "metadata": {},
   "source": [
    "## 10. Conclusion\n",
    "The BEMM461 project delved into the intricate fusion of sports, business, and data analytics, focusing on the dynamic realm of cricket,particularly within the Indian Premier League (IPL).\n",
    "Employing a systematic dashboard design process aligned with established principles such as Cole's Design Principles and Gestalt principles fortified the creation of an intuitive and user-centric dashboard. \n",
    "The dataset obtained from Kaggle emerged as a cornerstone, empowering comprehensive player and auction analysis.The dashboard's key visualizations offered actionable insights, emphasizing untapped talent among uncapped players, the significance of age dynamics in team composition, and the strategic impact of auction investments on player performances."
   ]
  },
  {
   "cell_type": "markdown",
   "metadata": {},
   "source": [
    "\n",
    "## References\n",
    "These references encompass a range of resources including platforms, datasets, articles, and comparative analyses, providing diverse  and information relevant to dashboard creation and data analysis\n",
    "\n",
    "Kopp, T., Riekert, M., & Utz, S. (2018). When cognitive fit outweighs cognitive load: redundant data labels in charts increase accuracy and speed of information extraction. Computers in Human Behavior, 86, 367-376. https://doi.org/10.1016/j.chb.2018.04.037\n",
    "\n",
    "TechnologyAdvice. (n.d.). Power BI vs. Domo. https://technologyadvice.com/business-intelligence/resources/power-bi-vs-domo/#:~:text=Power%20BI%20is%20a%20solid,based%20on%20real%2Dtime%20data.\n",
    "\n",
    "Few, S. (2015). Effective dashboard design. ResearchGate. https://www.researchgate.net/publication/286996830_Effective_dashboard_design\n",
    "\n",
    "Ni, H., & Wang, H. (2020). Interactive web-based data visualization with R, plotly, and shiny. ResearchGate. https://www.researchgate.net/publication/340147564_Interactive_Web-Based_Data_Visualization_with_R_plotly_and_shiny\n",
    "\n",
    "ChatGPT. (n.d.). OpenAI Chat. https://chat.openai.com/\n",
    "\n",
    "IPLT20. (n.d.). IPL Auction. https://www.iplt20.com/auction\n",
    "\n",
    "Kaggle. (2023). 2023 Auction. https://www.kaggle.com/code/akshay21kumar/ipl-auction-2023/input?select=2023+Auction\n",
    "\n",
    "Plotly. (n.d.). Plotly. https://plotly.com/\n",
    "\n"
   ]
  }
 ],
 "metadata": {
  "kernelspec": {
   "display_name": "base",
   "language": "python",
   "name": "python3"
  },
  "language_info": {
   "codemirror_mode": {
    "name": "ipython",
    "version": 3
   },
   "file_extension": ".py",
   "mimetype": "text/x-python",
   "name": "python",
   "nbconvert_exporter": "python",
   "pygments_lexer": "ipython3",
   "version": "3.11.5"
  },
  "orig_nbformat": 4
 },
 "nbformat": 4,
 "nbformat_minor": 2
}
